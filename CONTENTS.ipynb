{
  "nbformat": 4,
  "nbformat_minor": 0,
  "metadata": {
    "colab": {
      "provenance": []
    },
    "kernelspec": {
      "name": "python3",
      "display_name": "Python 3"
    },
    "language_info": {
      "name": "python"
    }
  },
  "cells": [
    {
      "cell_type": "markdown",
      "source": [
        "# SIGCSE24 Visual Data Science with Blockly-DS Workshop\n",
        "\n",
        "The workshop is designed to equip educators with an introduction to graphical data analysis techniques for exploring, summarizing, and effectively communicating data using Visual Blocks (Blockly) and Jupiter Notebooks. Participants will gain the skills to create and interpret various graphs and plots, fostering insights into data patterns and relationships. The emphasis will be on adeptly selecting visualizations based on data types and research questions, coupled with effectively communicating findings.  \n",
        "\n",
        "Upon completion of this course, educators should be proficient in: Understanding the principles of graphical data analysis and their practical applications; Creating and interpreting diverse graph types and plots (e.g., histograms, scatterplots, box plots); Choosing appropriate visualizations aligned with data types and research questions; Identifying patterns and relationships in data through effective use of visualizations; And communicating findings convincingly through the utilization of graphs and plots.\n",
        "\n",
        "The workshop will further delve into statistical methods essential for data analysis, guiding educators on employing descriptive statistics to explore data and derive meaningful business insights. The focus will be on fostering an understanding of statistical concepts and their practical application, as well as the effective interpretation and communication of findings. Additionally, the program will introduce educators to machine learning regressors, with a primary focus on linear regression. Participants will learn the skills to train, evaluate, and apply regressors to predict continuous target variables from input features. The emphasis will be on grasping and applying machine learning principles, as well as effectively interpreting and communicating model predictions.\n",
        "\n",
        "Furthermore, participants will engage in hands-on experience with machine learning classifiers, encompassing logistic regression, decision trees, naive Bayes, and neural networks. Educators will acquire the expertise to train, evaluate, and apply classifiers for predicting categorical target variables from input features. The emphasis here is on understanding and applying machine learning principles, as well as adeptly interpreting and communicating model predictions.\n",
        "\n",
        "## Content Outline:\n",
        "\n",
        "- [Data Science Descriptive Data Analysis](Data_science_Descriptive_Data_Analysis.ipynb)\n",
        "- [Regressors: Linear Regression](Regressors.ipynb)\n",
        "- [Classifiers: Logistic Regression](Classifiers.ipynb)\n"
      ],
      "metadata": {
        "id": "inQ6WxL4qnYp"
      }
    }
  ]
}