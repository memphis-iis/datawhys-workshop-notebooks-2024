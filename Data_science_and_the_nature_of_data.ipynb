{
  "cells": [
    {
      "cell_type": "markdown",
      "metadata": {
        "deletable": false,
        "editable": false,
        "id": "YJSFZ4Mq5bga"
      },
      "source": [
        "Copyright 2024 IIS - University of Memphis and made available under [CC BY-SA](https://creativecommons.org/licenses/by-sa/4.0) for text and [Apache-2.0](http://www.apache.org/licenses/LICENSE-2.0) for code."
      ]
    },
    {
      "cell_type": "markdown",
      "metadata": {
        "id": "ayfedWR05bgt"
      },
      "source": [
        "# Data Science and the Nature of Data\n",
        "\n",
        "This notebook introduces some foundational concepts in data science.\n",
        "As a result, this notebook will have more reading and less practical exercises than normal.\n",
        "But don't worry, we'll have some practical exercises at the end.\n",
        "<!-- for getting data from files. -->\n",
        "\n",
        "We have organized this notebook around **big ideas** in data science.\n",
        "You may wish to refer to this notebook throughout the course when these ideas come up.\n",
        "It's OK if you don't completely understand them today.\n",
        "Some of these ideas are quite subtle and take time to master.\n",
        "\n",
        "Let's get started!"
      ]
    },
    {
      "cell_type": "markdown",
      "metadata": {
        "id": "cRa7sX8M5bg0"
      },
      "source": [
        "## Not all data is the same\n",
        "\n",
        "When you hear people talk about \"data,\" you may get the impression that all data is the same.\n",
        "However, there are *many* different kinds of data.\n",
        "Just like we can compare animals by how many legs they have, whether they have fur, or whether they have tails, we can compare data along various *dimensions* that affect how we work with the data and what kinds of conclusions we can draw from it.\n",
        "\n",
        "### Is the data structured or unstructured?\n",
        "\n",
        "One of the most basic properties of data is whether it is **structured.**\n",
        "It might surprise you to hear that data can be unstructured; after all, why would someone collect data that wasn't structured?\n",
        "And you'd be right: normally when people plan to collect data, they structure it.\n",
        "Structure means that the data is organized and ready for analysis.\n",
        "The most common kind of structure is **tabular data**, like you'd see in a spreadsheet.\n",
        "We'll talk about this more in a little bit.\n",
        "Databases are another common source of structured data.\n",
        "\n",
        "Unstructured data usually comes about when the data collection wasn't planned or if people didn't know how to structure it in the first place.\n",
        "For example, imagine that you have a million photographs - how would you structure them as data?\n",
        "Textual data is another common example of unstructured data.\n",
        "If textual data were structured, in the way we're talking about, we wouldn't need search engines like Google to find things for us!\n",
        "When we work with unstructured data, we must take an extra step of structuring it somehow for our analysis, i.e. we have to turn unstructured data into structured data to do something with it.\n",
        "Again, images, audio, and text are common examples that need this extra step.\n",
        "\n",
        "### Is the data clean or dirty?\n",
        "\n",
        "Another basic property of data is **cleanliness**.\n",
        "If data is clean, then we don't need to correct it or process it to remove garbage values or correct noisy values.\n",
        "Just like with structured data, you might expect all data to be clean.\n",
        "However, even carefully collected data can have problems that require correction before it can be used properly.\n",
        "Dirty data is the norm for unplanned data collection.\n",
        "So unplanned data collection is more likely to result in *both* unstructured data and dirty data.\n",
        "\n",
        "There are many ways that data can be dirty, but to make the idea more concrete, let's consider a few examples.\n",
        "Imagine that you are interested in the weather in your backyard, so you put out a battery operated thermometer that records the temperature every hour.\n",
        "You then leave it there for a month.\n",
        "Now imagine that it worked fine for the first two weeks, but since you didn't change the batteries, the measurements for the last two weeks become increasingly unreliable, e.g. reporting up to 10 degrees above or below the actual temperature, until it finally shuts off leaving you with no data for the remaining days.\n",
        "This kind of problem, an **instrument failure** leading to **unreliable measurement**, is actually quite common and can take a lot of planning to avoid.\n",
        "<!-- Another example of dirty data is at the recording stage.\n",
        "Imagine a computer is recording audio data by writing it to the hard disk.\n",
        "If the computer suddenly becomes active with another task (say streaming a video or installing an operating system update) the audio data may \"glitch\". -->\n",
        "\n",
        "While *very* dirty data is usually obvious, it can sometimes be hard to recognize.\n",
        "For this reason, it is important to check your data for problems (e.g. crazy values, like a person being 1 ft tall or 200 years old) and think very seriously about how problems should be corrected.\n",
        "Data cleaning is such a tricky topic that we will delay it until much later in the course.\n",
        "\n",
        "### Is the data experimental or nonexperimental?\n",
        "\n",
        "The last major dimension of data we'll talk about is whether the data came from an **experiment** or not.\n",
        "Why is this important?\n",
        "Knowing whether the data came from an experiment is important because it tells you if you can draw causal conclusions from it.\n",
        "When we talk about experiments here, what we mean are randomized controlled trials (RCTs) or an equivalent method of constructing a counterfactual.\n",
        "The basic idea with an RCT is that your **randomly** assign what you are studying (i.e. people, animals, etc) into **two or more groups**.\n",
        "In one of those groups, you do nothing - this is the control group.\n",
        "In one of the other groups, you **do something** to what you are studying - this is the treatment group.\n",
        "After the experiment, you can see what happened when you **did something** by comparing the treatment group to the control group.\n",
        "Since the two groups are the same in every other respect, you know that any differences are a result of what you did.\n",
        "This is why experiments allow you to draw causal conclusions - **because you only changed one thing, you know that change caused the difference you see.**\n",
        "\n",
        "Let's take a common example, vaccines.\n",
        "To discover if a vaccine against coronavirus is effective, I would randomly assign people to two groups.\n",
        "The treatment group would receive the vaccine, and the control group wouldn't.\n",
        "I would then follow up with both groups 1-2 months later and see which of them had gotten sick and which hadn't.\n",
        "If there was no difference in illness between the two groups, I'd say that the vaccine had no effect.\n",
        "Otherwise, I'd say the vaccine had some effectiveness.\n",
        "There's some subtlety we're skipping over here about *reliable differences*, but this is the basic idea.\n",
        "\n",
        "Let's take another example of a non-experimental study.\n",
        "Some researchers sent a survey to a million people in Europe and asked them how much coffee they drank and how old they were.\n",
        "After analyzing the results, the researchers found that older people drank more coffee.\n",
        "Can we infer that coffee makes people live longer?\n",
        "No, we can't, because we have no control group to compare to.\n",
        "Without that control group, there are many other reasons that older people could be drinking more coffee.\n",
        "It could be that coffee is less popular now than 10 years ago, it could be that older people have more money to spend on coffee, or it could be some other reason we haven't thought of yet.\n",
        "When we have a non-experimental result like this, we have to be **very** careful about interpretation.\n",
        "The best we can say is that there seems to be an **association** between drinking coffee and being older, but we can't say what the cause is.\n",
        "We'll talk more about associations like this later on in the course."
      ]
    },
    {
      "cell_type": "markdown",
      "metadata": {
        "id": "er586jQV5bg6"
      },
      "source": [
        "## Different questions need different types of data\n",
        "\n",
        "As you might expect, there are many different things data can tell us.\n",
        "However, what data can tell us is limited by the type of data we have.\n",
        "We can think of three kinds of questions we can ask of data in terms of *levels*, as shown in the image below.\n",
        "\n",
        "<!-- Andrew Olney made this picture -->\n",
        "<!-- Too big, resizing with html -->\n",
        "<!-- ![Screenshot_2020-05-30_11-47-06.png](attachment:Screenshot_2020-05-30_11-47-06.png) -->\n",
        "<div>\n",
        "<img src=\"attachment:Screenshot_2020-05-30_11-47-06.png\" width=\"300\"/>\n",
        "</div>\n",
        "\n",
        "The most basic questions are descriptive questions.\n",
        "For example, we could have a dataset containing the heights of everyone in the U.S., and we could ask descriptive questions like:\n",
        "\n",
        "- How tall is the tallest person?\n",
        "- How short is the shortest person?\n",
        "- What is the average height?\n",
        "\n",
        "Descriptive questions highlight a particular data point (like the tallest height) or summarize multiple data points (like the average height).\n",
        "\n",
        "The next level above description is prediction.\n",
        "In prediction, we have at least two kinds of data, or variables, where we can predict one using the other.\n",
        "For example, we can look at age and height, and predict height based on age.\n",
        "Clearly there is a strong relationship between age and height, at least up to the teenage years, when people tend to stop growing.\n",
        "We can ask descriptive questions about both age and height, and once we bring them together, we can further asks predictive questions like:\n",
        "\n",
        "- How much taller does someone grow in a year?\n",
        "- If someone is 10 years old, how tall do we expect them to be?\n",
        "\n",
        "The final level is explaining.\n",
        "In explaining, we want to understand causality, which we just talked about with respect to experimental data.\n",
        "Going back to our example, we want to know *why* people get taller as they age, not just that they do.\n",
        "To know why, we need to perform an experiment.\n",
        "Explaining is really important and is the main focus of science.\n",
        "However, it's important to appreciate that describing and predicting are also really important, and that they may be the only questions you are interested in.\n",
        "For example, if I want to increase my coffee sales, I don't need to understand why older people drink more coffee, I just need to know that they do.\n",
        "Then I can target my marketing to older age groups and expect to increase my profits."
      ]
    },
    {
      "cell_type": "markdown",
      "metadata": {
        "id": "-B6JxKR85bg9"
      },
      "source": [
        "## Limits of analysis\n",
        "\n",
        "As you progress through this course, you will feel empowered by the models you can build and the questions you can answer.\n",
        "Therefore, it's important for you to understand that none of your models will be 100% correct, for reasons we'll discuss next.\n",
        "This idea has been famously expressed as:\n",
        "\n",
        "> Essentially, all models are wrong, but some are useful.\n",
        ">\n",
        "> &mdash; <cite>Box & Draper (1987), p. 424</cite>\n",
        "\n",
        "There are many ways for models to be wrong, but we'll focus on three common ways to illustrate this concept.\n",
        "\n",
        "### Missing variables and misspecified models\n",
        "\n",
        "Let's return to the example of growing taller with age.\n",
        "If we collected a lot of data, we'd see this is a pretty strong relationship.\n",
        "However, is it the case that there are no other variables that determine height?\n",
        "Thinking about it more, we realize that nutrition is also an important factor.\n",
        "Are there other important factors?\n",
        "It turns out that air pollution is associated with stunted growth.\n",
        "We could go on and on here, but the basic idea is this: you may have identified some of the important variables in your model, and you may have identified the most important ones, but it is unlikely that you've identified *all* of them.\n",
        "\n",
        "### Measurement error\n",
        "\n",
        "Even if your model is perfectly specified, your data might be subject to measurement error.\n",
        "For example, let's say I'm interested in how many squirrels get run over in December vs. June.\n",
        "I might send out teams of students to walk up and down streets looking for dead squirrels.\n",
        "Some people on those teams might be very diligent and accurately count the squirrels, but others may not pay as much attention and only count about half of them.\n",
        "As a result, my model will be based on inaccurate data, which may lead me to draw the wrong conclusion.\n",
        "Almost all data has *some* measurement error, so this can be a real issue.\n",
        "\n",
        "### Generalization\n",
        "\n",
        "Finally, my model may be specified well, and my data may be free of measurement error, but I may not be **sampling** my data in a way that allows for **generalization**.\n",
        "Suppose I'm trying to predict the outcome of the next election with survey data, and I only send surveys to farmers in Iowa.\n",
        "Will that help me predict how people in Chicago will vote?\n",
        "Or the U.S. as a whole?\n",
        "Probably not, because I have not captured the diversity of the U.S. in my sample -- I've only captured one occupation in one area of the country.\n",
        "If you want your model to generalize to new situations, which we almost always want, it's important to think about whether your data captures the complexity and diversity of the real world or only a small slice of it."
      ]
    },
    {
      "cell_type": "markdown",
      "metadata": {
        "id": "uqXKjhBz5bg-"
      },
      "source": [
        "## Types of variables\n",
        "\n",
        "We've talked about structured vs. unstructured data already, but we haven't gone into detail about how structured data is created.\n",
        "Structured data begins with **measurements** of some type of thing in the real world, which we call a **variable**.\n",
        "Let's return to the example of height.\n",
        "I may measure 10 people and find that their heights in centimeters are:\n",
        "\n",
        "| Height |\n",
        "|--------|\n",
        "| 165    |\n",
        "| 188    |\n",
        "| 153    |\n",
        "| 164    |\n",
        "| 150    |\n",
        "| 190    |\n",
        "| 169    |\n",
        "| 163    |\n",
        "| 165    |\n",
        "| 190    |\n",
        "\n",
        "Each of these values (e.g. 165) is a measurement of the variable *height*.\n",
        "We call *height* a variable because its value isn't constant.\n",
        "If everyone in the world were the same height, we wouldn't call height a variable, and we also wouldn't bother measuring it, because we'd know everyone is the same.\n",
        "\n",
        "Variables have different **types** that can affect your analysis.\n",
        "\n",
        "### Nominal\n",
        "\n",
        "A nominal variable consists of unordered categories, like *male* or *female* for biological sex.\n",
        "Notice that these categories are not numbers, and there is no order to the categories.\n",
        "We do not say that male comes before female or is smaller than female.\n",
        "\n",
        "### Ordinal\n",
        "\n",
        "Ordinal variables consist of ordered categories.\n",
        "You can think of it as nominal data but with an ordering from first to last or smallest to largest.\n",
        "A common example of ordinal data are Likert questions like:\n",
        "\n",
        "```\n",
        "(1) Strongly disagree\n",
        "(2) Disagree\n",
        "(3) Neither agree nor disagree\n",
        "(4) Agree\n",
        "(5) Strongly agree\n",
        "```\n",
        "\n",
        "Even though these options are numbered 1 to 5, those numbers only indicate which comes before the others, not how \"big\" an option is.\n",
        "For example, we wouldn't say that the difference between *Agree*  and *Disagree* is the same as the difference between *Neither agree nor disagree* and *Strongly agree*.\n",
        "\n",
        "### Interval\n",
        "\n",
        "Interval variables are ordered *and* their measurement scales are evenly spaced.\n",
        "A classic example is temperature in Fahrenheit.\n",
        "In degrees Fahrenheit, the difference between 70 and 71 is the same as the difference between 90 and 91 - either case is one degree.\n",
        "The other most important characteristic of interval variables is also the most confusing one, which is that interval variables don't have a meaningful zero value.\n",
        "Degrees Fahrenheit is an example of this because there's nothing special about 0 degrees.\n",
        "0 degrees doesn't mean there's no temperature or no heat energy, it's just an arbitrary point on the scale.\n",
        "\n",
        "### Ratio\n",
        "\n",
        "Ratio variables are like interval variables but with meaningful zeros.\n",
        "Age and height are good examples because 0 age means you have no age, and 0 height means you have no height.\n",
        "The name *ratio* reflects that you can form a ratio with these variables, which means that you can say age 20 is twice as old as age 10.\n",
        "Notice you can't say that about degrees Fahrenheit: 100 degrees is not really twice as hot as 50 degrees, because 0 degrees Fahrenheit doesn't mean \"no temperature.\""
      ]
    },
    {
      "cell_type": "markdown",
      "metadata": {
        "id": "oYjjih1p5bg_"
      },
      "source": [
        "## Measurement\n",
        "\n",
        "We previously said that structured data begins with measurement of a variable, but we haven't explained what measurement really is.\n",
        "Measurement is, quite simply, the assignment of a value to a variable.\n",
        "In the context of a categorical variable like biological sex, we would say the assignment of *male* or *female* is a measurement.\n",
        "Similarly for height, we would say that 180 cm is a measurement.\n",
        "Notice that in these two examples, the measurement depends closely on type of variable (e.g. categorical or ratio).\n",
        "\n",
        "How we measure is tightly connected to how we've defined the variable.\n",
        "This makes sense, because our measurements serve as a way of defining the variable.\n",
        "For some variables, this is more obvious than for other variables.\n",
        "For example, we all know what *length* is.\n",
        "It is a measure of distance that we can see with our eyes, and we can measure it in different units like centimeters or inches.\n",
        "However, some variables are not as obvious, like *justice*.\n",
        "How do we measure *justice*?\n",
        "One way would be to ask people, e.g. to ask them how just or unjust they thought a situation was.\n",
        "There are two problems with this approach.\n",
        "First, different people will tell you different things.\n",
        "Second, you may not really be measuring *justice* when you ask this question; you could end up measuring something else by accident, like people's religious beliefs.\n",
        "\n",
        "When we talk about measurement, especially of things we can't directly observe, there are two important properties of measurement that we want, **validity** and **reliability**.\n",
        "The picture below presents a conceptual illustration of these ideas using a target.\n",
        "\n",
        "<!-- Attribution: © Nevit Dilmen -->\n",
        "<!-- https://commons.wikimedia.org/wiki/File:Reliability_and_validity.svg -->\n",
        "![image.png](https://pbs.twimg.com/media/GC3XEykXEAArIAC?format=png&name=small)\n",
        "\n",
        "Simply stated, **validity means we are measuring what we intend to measure**.\n",
        "In the images, validity is being \"on target,\" so that our measurements are *centered* on what we are trying to measure.\n",
        "\n",
        "In contrast, **reliability means our measurements are consistent**.\n",
        "Our measurements could be consistently wrong, which would make them reliable but not valid (lower left).\n",
        "Ideally, our measurements will be both valid and reliable (lower right).\n",
        "\n",
        "When it comes to validity and reliability, the most important thing to understand is that **validity is not optional.**\n",
        "If you don't have validity, your variable is wrong - you're not measuring what you think you're measuring.\n",
        "Reliability is optional to a certain extent, but if the reliability is very low, we won't be able to get much information out of the variable."
      ]
    },
    {
      "cell_type": "markdown",
      "metadata": {
        "deletable": false,
        "editable": false,
        "id": "ZTgqLCNU5bhC"
      },
      "source": [
        "## Tabular data\n",
        "\n",
        "The most common type of structured data is **tabular data** which is what you find in spreadsheets.\n",
        "If you've ever used a spreadsheet, you know something about tabular data!\n",
        "\n",
        "Here's an example of tabular data, with *height* in centimeters, *age* in years, and *weight* in kilograms:\n",
        "\n",
        "| Height | Age | Weight |\n",
        "|--------|-----|--------|\n",
        "| 161    | 50  | 53     |\n",
        "| 161    | 17  | 53     |\n",
        "| 155    | 33  | 84     |\n",
        "| 180    | 51  | 84     |\n",
        "| 186    | 18  | 88     |\n",
        "\n",
        "In tabular data like this, each **row** is a person.\n",
        "More generically, we would say each row is an **observation** or **datapoint** (in statistics terminology) or an **item** (in machine learning terminology).\n",
        "In each row, we have measurements for each of our variables for that particular person.\n",
        "Since we have five rows of measurements, we know that there are five people in this dataset.\n",
        "\n",
        "We can also think about tabular data in terms of **columns**.\n",
        "Each column represents a variable, with the name of that variable in the **column header**.\n",
        "For example, *height* is at the top of the first column and is the name of the variable for that column.\n",
        "Importantly, the header is not an observation but rather a description of our data.\n",
        "This is why we don't count the header when we are counting the rows in our data.\n",
        "\n",
        "### Delimited tabular data - CSV and TSV\n",
        "\n",
        "You are probably familiar with spreadsheet files, e.g. Microsoft Excel has files that end in `.xls` or `.xlsx`.\n",
        "However, in data science, it is more common to have tabular data files that are **delimited**.\n",
        "A delimited file is just a plain text file where column boundaries are represented by a specific character, usually a comma or a tab.\n",
        "\n",
        "Here's what the data above looks like in **comma separated value (CSV)** form:\n",
        "\n",
        "```\n",
        "Height,Age,Weight\n",
        "161,50,53\n",
        "161,17,53\n",
        "155,33,84\n",
        "180,51,84\n",
        "186,18,88\n",
        "```\n",
        "\n",
        "and here's what the data looks like in **tab separated value (TSV)** form:\n",
        "\n",
        "```\n",
        "Height\tAge\tWeight\n",
        "161\t50\t53\n",
        "161\t17\t53\n",
        "155\t33\t84\n",
        "180\t51\t84\n",
        "186\t18\t88\n",
        "```\n",
        "\n",
        "The choice of the delimiter (comma, tab, or something else) is really arbitrary, but it's always better to use a delimiter that doesn't appear in your data.\n"
      ]
    },
    {
      "cell_type": "markdown",
      "source": [
        "# Descriptive Data Analysis\n"
      ],
      "metadata": {
        "id": "RS6f0T3t65Ya"
      }
    },
    {
      "cell_type": "markdown",
      "source": [
        "\n",
        "## Loading data\n",
        "\n",
        "Data exploration and analysis is at the core of data science. Data scientists require skills in programming languages like Python to explore, visualize, and manipulate data\n",
        "\n",
        "### Dataframes\n",
        "\n",
        "Data scientists often load tabular data into a **dataframe** that they can manipulate in a program.\n",
        "In other words, tabular data from a file is brought into the computational notebook in a variable that represents rows, columns, header, etc just like they are stored in the tabular data file.\n",
        "Because dataframes match tabular data in files, they are very intuitive to work with, which may explain their popularity.\n",
        "\n",
        "We're now at the practical portion of this notebook, so let's work with dataframes!\n",
        "\n",
        "**If you haven't seen a demonstration of Blockly, [see this short video tutorial](https://youtu.be/ovCJln08mG8?vq=hd720) or [this long video tutorial](https://youtu.be/-luPzplPDI0?vq=hd720).**\n",
        "\n",
        "#### Read CSV into dataframe\n",
        "\n",
        "First, let's read a CSV file into a dataframe.\n",
        "To do that, we need to import a dataframe library called `pandas`.\n",
        "**If it isn't already open**, open up the Blockly extension by clicking on the painter's palette icon, then clicking on `Blockly Jupyterlab Extension`.\n",
        "\n",
        "![screenshot_7.png](https://pbs.twimg.com/media/GC3YsK4XUAAoO4J?format=png&name=small)"
      ],
      "metadata": {
        "id": "uUGmFrmZNYq1"
      }
    },
    {
      "cell_type": "markdown",
      "metadata": {
        "id": "vJirVWdr5bhE"
      },
      "source": [
        "Using the IMPORT menu in the Blockly palette, click on an import block `import some library as variable name`:\n",
        "\n",
        "![screenshot_8.png](https://pbs.twimg.com/media/GC3YvjkW0AAZ5UT?format=png&name=small)\n",
        "\n",
        "When you click on the block, it drops onto the Blockly workspace.\n",
        "Change `some library` to `pandas` by typing into that box.\n",
        "Click on the `variable name` dropdown, choose `Rename variable...`, and type `pd` into the box that pops up.\n",
        "This imports the `pandas` dataframe library and gives it the variable name, or alias, `pd`.\n",
        "\n",
        "In the future, we will abbreviate these steps as:\n",
        "\n",
        "- `import pandas as pd`\n",
        "\n",
        "Make sure the code cell below is selected (has a blue bar next to it) and press the `Blocks to Code` button below the Blockly workspace.\n",
        "This will insert the code corresponding to the blocks into the **active cell** in Jupyter, which is the cell that has a blue bar next to it.\n",
        "\n",
        "Once the code appears in that Jupyter cell, you must **execute** or **run** it by either pressing the &#9658; button at the top of the window or by pressing Shift + Enter on your keyboard."
      ]
    },
    {
      "cell_type": "code",
      "execution_count": 1,
      "metadata": {
        "deletable": false,
        "editable": false,
        "id": "f1qnlw5B5bhG"
      },
      "outputs": [],
      "source": [
        "import pandas as pd\n",
        "\n",
        "#<xml xmlns=\"https://developers.google.com/blockly/xml\">"
      ]
    },
    {
      "cell_type": "markdown",
      "metadata": {
        "deletable": false,
        "editable": false,
        "id": "vJcV8EUe5bhL"
      },
      "source": [
        "We can now do things with `pd`, like load datasets!\n",
        "\n",
        "Our file is called `height-age-weight.csv` and it is in the `datasets` folder.\n",
        "That means the **path** from this notebook (the one you're reading) to the data is `https://raw.githubusercontent.com/memphis-iis/datawhys-workshop-notebooks-2024/main/datasets/covid19%20-%20cases.csv`.\n",
        "\n",
        "To read this file into a dataframe, we will use `pd`.\n",
        "Go to the VARIABLES menu in the Blockly palette and click on the `with pd do ...` block.\n",
        "\n",
        "![screenshot_9.png](https://pbs.twimg.com/media/GC3b8ioWQAAl9mq?format=png&name=small)\n",
        "\n",
        "After it drops into the Blockly workspace, wait a second until the dropdown stops loading, and then click on it and select `read_csv`.\n",
        "Then get a `\" \"` block from TEXT, drop it on the workspace, drag it to the `using` part of the first block, and type the file path `https://raw.githubusercontent.com/memphis-iis/datawhys-workshop-notebooks-2024/main/datasets/covid.csv` into it.\n",
        "Your blocks should look like this:\n",
        "\n",
        "![img](https://pbs.twimg.com/media/GC3cg6sWwAACW0F?format=png&name=small)"
      ]
    },
    {
      "cell_type": "markdown",
      "metadata": {
        "deletable": false,
        "editable": false,
        "id": "lYL74Bs55bhP"
      },
      "source": [
        "Make sure the cell below is selected, then press `Blocks to Codes`, and execute the cell to run the code by pressing the &#9658; button.\n",
        "\n",
        "In the future, we will abbreviate these steps as:\n",
        "\n",
        "- `with pd do read_csv using \"covid19%20-%20cases.csv\"`\n"
      ]
    },
    {
      "cell_type": "code",
      "execution_count": null,
      "metadata": {
        "colab": {
          "base_uri": "https://localhost:8080/",
          "height": 424
        },
        "id": "l1ZrZnV_5bhQ",
        "outputId": "45d64ad4-c4e5-499d-9c40-253ce1572112"
      },
      "outputs": [
        {
          "output_type": "execute_result",
          "data": {
            "text/plain": [
              "        date  Brazil  India      US\n",
              "0    1/23/20       0      0       0\n",
              "1    1/24/20       0      0       1\n",
              "2    1/25/20       0      0       0\n",
              "3    1/26/20       0      0       3\n",
              "4    1/27/20       0      0       0\n",
              "..       ...     ...    ...     ...\n",
              "581  8/26/21   31024  44658  161331\n",
              "582  8/27/21   27345  46759  322934\n",
              "583  8/28/21   24699  45083   53069\n",
              "584  8/29/21   13210  42909   38473\n",
              "585  8/30/21   10466  30941  258532\n",
              "\n",
              "[586 rows x 4 columns]"
            ],
            "text/html": [
              "\n",
              "  <div id=\"df-1961413a-cbab-403d-bfef-2fa1d15f21d3\" class=\"colab-df-container\">\n",
              "    <div>\n",
              "<style scoped>\n",
              "    .dataframe tbody tr th:only-of-type {\n",
              "        vertical-align: middle;\n",
              "    }\n",
              "\n",
              "    .dataframe tbody tr th {\n",
              "        vertical-align: top;\n",
              "    }\n",
              "\n",
              "    .dataframe thead th {\n",
              "        text-align: right;\n",
              "    }\n",
              "</style>\n",
              "<table border=\"1\" class=\"dataframe\">\n",
              "  <thead>\n",
              "    <tr style=\"text-align: right;\">\n",
              "      <th></th>\n",
              "      <th>date</th>\n",
              "      <th>Brazil</th>\n",
              "      <th>India</th>\n",
              "      <th>US</th>\n",
              "    </tr>\n",
              "  </thead>\n",
              "  <tbody>\n",
              "    <tr>\n",
              "      <th>0</th>\n",
              "      <td>1/23/20</td>\n",
              "      <td>0</td>\n",
              "      <td>0</td>\n",
              "      <td>0</td>\n",
              "    </tr>\n",
              "    <tr>\n",
              "      <th>1</th>\n",
              "      <td>1/24/20</td>\n",
              "      <td>0</td>\n",
              "      <td>0</td>\n",
              "      <td>1</td>\n",
              "    </tr>\n",
              "    <tr>\n",
              "      <th>2</th>\n",
              "      <td>1/25/20</td>\n",
              "      <td>0</td>\n",
              "      <td>0</td>\n",
              "      <td>0</td>\n",
              "    </tr>\n",
              "    <tr>\n",
              "      <th>3</th>\n",
              "      <td>1/26/20</td>\n",
              "      <td>0</td>\n",
              "      <td>0</td>\n",
              "      <td>3</td>\n",
              "    </tr>\n",
              "    <tr>\n",
              "      <th>4</th>\n",
              "      <td>1/27/20</td>\n",
              "      <td>0</td>\n",
              "      <td>0</td>\n",
              "      <td>0</td>\n",
              "    </tr>\n",
              "    <tr>\n",
              "      <th>...</th>\n",
              "      <td>...</td>\n",
              "      <td>...</td>\n",
              "      <td>...</td>\n",
              "      <td>...</td>\n",
              "    </tr>\n",
              "    <tr>\n",
              "      <th>581</th>\n",
              "      <td>8/26/21</td>\n",
              "      <td>31024</td>\n",
              "      <td>44658</td>\n",
              "      <td>161331</td>\n",
              "    </tr>\n",
              "    <tr>\n",
              "      <th>582</th>\n",
              "      <td>8/27/21</td>\n",
              "      <td>27345</td>\n",
              "      <td>46759</td>\n",
              "      <td>322934</td>\n",
              "    </tr>\n",
              "    <tr>\n",
              "      <th>583</th>\n",
              "      <td>8/28/21</td>\n",
              "      <td>24699</td>\n",
              "      <td>45083</td>\n",
              "      <td>53069</td>\n",
              "    </tr>\n",
              "    <tr>\n",
              "      <th>584</th>\n",
              "      <td>8/29/21</td>\n",
              "      <td>13210</td>\n",
              "      <td>42909</td>\n",
              "      <td>38473</td>\n",
              "    </tr>\n",
              "    <tr>\n",
              "      <th>585</th>\n",
              "      <td>8/30/21</td>\n",
              "      <td>10466</td>\n",
              "      <td>30941</td>\n",
              "      <td>258532</td>\n",
              "    </tr>\n",
              "  </tbody>\n",
              "</table>\n",
              "<p>586 rows × 4 columns</p>\n",
              "</div>\n",
              "    <div class=\"colab-df-buttons\">\n",
              "\n",
              "  <div class=\"colab-df-container\">\n",
              "    <button class=\"colab-df-convert\" onclick=\"convertToInteractive('df-1961413a-cbab-403d-bfef-2fa1d15f21d3')\"\n",
              "            title=\"Convert this dataframe to an interactive table.\"\n",
              "            style=\"display:none;\">\n",
              "\n",
              "  <svg xmlns=\"http://www.w3.org/2000/svg\" height=\"24px\" viewBox=\"0 -960 960 960\">\n",
              "    <path d=\"M120-120v-720h720v720H120Zm60-500h600v-160H180v160Zm220 220h160v-160H400v160Zm0 220h160v-160H400v160ZM180-400h160v-160H180v160Zm440 0h160v-160H620v160ZM180-180h160v-160H180v160Zm440 0h160v-160H620v160Z\"/>\n",
              "  </svg>\n",
              "    </button>\n",
              "\n",
              "  <style>\n",
              "    .colab-df-container {\n",
              "      display:flex;\n",
              "      gap: 12px;\n",
              "    }\n",
              "\n",
              "    .colab-df-convert {\n",
              "      background-color: #E8F0FE;\n",
              "      border: none;\n",
              "      border-radius: 50%;\n",
              "      cursor: pointer;\n",
              "      display: none;\n",
              "      fill: #1967D2;\n",
              "      height: 32px;\n",
              "      padding: 0 0 0 0;\n",
              "      width: 32px;\n",
              "    }\n",
              "\n",
              "    .colab-df-convert:hover {\n",
              "      background-color: #E2EBFA;\n",
              "      box-shadow: 0px 1px 2px rgba(60, 64, 67, 0.3), 0px 1px 3px 1px rgba(60, 64, 67, 0.15);\n",
              "      fill: #174EA6;\n",
              "    }\n",
              "\n",
              "    .colab-df-buttons div {\n",
              "      margin-bottom: 4px;\n",
              "    }\n",
              "\n",
              "    [theme=dark] .colab-df-convert {\n",
              "      background-color: #3B4455;\n",
              "      fill: #D2E3FC;\n",
              "    }\n",
              "\n",
              "    [theme=dark] .colab-df-convert:hover {\n",
              "      background-color: #434B5C;\n",
              "      box-shadow: 0px 1px 3px 1px rgba(0, 0, 0, 0.15);\n",
              "      filter: drop-shadow(0px 1px 2px rgba(0, 0, 0, 0.3));\n",
              "      fill: #FFFFFF;\n",
              "    }\n",
              "  </style>\n",
              "\n",
              "    <script>\n",
              "      const buttonEl =\n",
              "        document.querySelector('#df-1961413a-cbab-403d-bfef-2fa1d15f21d3 button.colab-df-convert');\n",
              "      buttonEl.style.display =\n",
              "        google.colab.kernel.accessAllowed ? 'block' : 'none';\n",
              "\n",
              "      async function convertToInteractive(key) {\n",
              "        const element = document.querySelector('#df-1961413a-cbab-403d-bfef-2fa1d15f21d3');\n",
              "        const dataTable =\n",
              "          await google.colab.kernel.invokeFunction('convertToInteractive',\n",
              "                                                    [key], {});\n",
              "        if (!dataTable) return;\n",
              "\n",
              "        const docLinkHtml = 'Like what you see? Visit the ' +\n",
              "          '<a target=\"_blank\" href=https://colab.research.google.com/notebooks/data_table.ipynb>data table notebook</a>'\n",
              "          + ' to learn more about interactive tables.';\n",
              "        element.innerHTML = '';\n",
              "        dataTable['output_type'] = 'display_data';\n",
              "        await google.colab.output.renderOutput(dataTable, element);\n",
              "        const docLink = document.createElement('div');\n",
              "        docLink.innerHTML = docLinkHtml;\n",
              "        element.appendChild(docLink);\n",
              "      }\n",
              "    </script>\n",
              "  </div>\n",
              "\n",
              "\n",
              "<div id=\"df-eeb24c42-fdc1-4a73-aa89-83d042b6c52f\">\n",
              "  <button class=\"colab-df-quickchart\" onclick=\"quickchart('df-eeb24c42-fdc1-4a73-aa89-83d042b6c52f')\"\n",
              "            title=\"Suggest charts\"\n",
              "            style=\"display:none;\">\n",
              "\n",
              "<svg xmlns=\"http://www.w3.org/2000/svg\" height=\"24px\"viewBox=\"0 0 24 24\"\n",
              "     width=\"24px\">\n",
              "    <g>\n",
              "        <path d=\"M19 3H5c-1.1 0-2 .9-2 2v14c0 1.1.9 2 2 2h14c1.1 0 2-.9 2-2V5c0-1.1-.9-2-2-2zM9 17H7v-7h2v7zm4 0h-2V7h2v10zm4 0h-2v-4h2v4z\"/>\n",
              "    </g>\n",
              "</svg>\n",
              "  </button>\n",
              "\n",
              "<style>\n",
              "  .colab-df-quickchart {\n",
              "      --bg-color: #E8F0FE;\n",
              "      --fill-color: #1967D2;\n",
              "      --hover-bg-color: #E2EBFA;\n",
              "      --hover-fill-color: #174EA6;\n",
              "      --disabled-fill-color: #AAA;\n",
              "      --disabled-bg-color: #DDD;\n",
              "  }\n",
              "\n",
              "  [theme=dark] .colab-df-quickchart {\n",
              "      --bg-color: #3B4455;\n",
              "      --fill-color: #D2E3FC;\n",
              "      --hover-bg-color: #434B5C;\n",
              "      --hover-fill-color: #FFFFFF;\n",
              "      --disabled-bg-color: #3B4455;\n",
              "      --disabled-fill-color: #666;\n",
              "  }\n",
              "\n",
              "  .colab-df-quickchart {\n",
              "    background-color: var(--bg-color);\n",
              "    border: none;\n",
              "    border-radius: 50%;\n",
              "    cursor: pointer;\n",
              "    display: none;\n",
              "    fill: var(--fill-color);\n",
              "    height: 32px;\n",
              "    padding: 0;\n",
              "    width: 32px;\n",
              "  }\n",
              "\n",
              "  .colab-df-quickchart:hover {\n",
              "    background-color: var(--hover-bg-color);\n",
              "    box-shadow: 0 1px 2px rgba(60, 64, 67, 0.3), 0 1px 3px 1px rgba(60, 64, 67, 0.15);\n",
              "    fill: var(--button-hover-fill-color);\n",
              "  }\n",
              "\n",
              "  .colab-df-quickchart-complete:disabled,\n",
              "  .colab-df-quickchart-complete:disabled:hover {\n",
              "    background-color: var(--disabled-bg-color);\n",
              "    fill: var(--disabled-fill-color);\n",
              "    box-shadow: none;\n",
              "  }\n",
              "\n",
              "  .colab-df-spinner {\n",
              "    border: 2px solid var(--fill-color);\n",
              "    border-color: transparent;\n",
              "    border-bottom-color: var(--fill-color);\n",
              "    animation:\n",
              "      spin 1s steps(1) infinite;\n",
              "  }\n",
              "\n",
              "  @keyframes spin {\n",
              "    0% {\n",
              "      border-color: transparent;\n",
              "      border-bottom-color: var(--fill-color);\n",
              "      border-left-color: var(--fill-color);\n",
              "    }\n",
              "    20% {\n",
              "      border-color: transparent;\n",
              "      border-left-color: var(--fill-color);\n",
              "      border-top-color: var(--fill-color);\n",
              "    }\n",
              "    30% {\n",
              "      border-color: transparent;\n",
              "      border-left-color: var(--fill-color);\n",
              "      border-top-color: var(--fill-color);\n",
              "      border-right-color: var(--fill-color);\n",
              "    }\n",
              "    40% {\n",
              "      border-color: transparent;\n",
              "      border-right-color: var(--fill-color);\n",
              "      border-top-color: var(--fill-color);\n",
              "    }\n",
              "    60% {\n",
              "      border-color: transparent;\n",
              "      border-right-color: var(--fill-color);\n",
              "    }\n",
              "    80% {\n",
              "      border-color: transparent;\n",
              "      border-right-color: var(--fill-color);\n",
              "      border-bottom-color: var(--fill-color);\n",
              "    }\n",
              "    90% {\n",
              "      border-color: transparent;\n",
              "      border-bottom-color: var(--fill-color);\n",
              "    }\n",
              "  }\n",
              "</style>\n",
              "\n",
              "  <script>\n",
              "    async function quickchart(key) {\n",
              "      const quickchartButtonEl =\n",
              "        document.querySelector('#' + key + ' button');\n",
              "      quickchartButtonEl.disabled = true;  // To prevent multiple clicks.\n",
              "      quickchartButtonEl.classList.add('colab-df-spinner');\n",
              "      try {\n",
              "        const charts = await google.colab.kernel.invokeFunction(\n",
              "            'suggestCharts', [key], {});\n",
              "      } catch (error) {\n",
              "        console.error('Error during call to suggestCharts:', error);\n",
              "      }\n",
              "      quickchartButtonEl.classList.remove('colab-df-spinner');\n",
              "      quickchartButtonEl.classList.add('colab-df-quickchart-complete');\n",
              "    }\n",
              "    (() => {\n",
              "      let quickchartButtonEl =\n",
              "        document.querySelector('#df-eeb24c42-fdc1-4a73-aa89-83d042b6c52f button');\n",
              "      quickchartButtonEl.style.display =\n",
              "        google.colab.kernel.accessAllowed ? 'block' : 'none';\n",
              "    })();\n",
              "  </script>\n",
              "</div>\n",
              "    </div>\n",
              "  </div>\n"
            ]
          },
          "metadata": {},
          "execution_count": 3
        }
      ],
      "source": [
        "import pandas as pd\n",
        "pd.read_csv('https://raw.githubusercontent.com/memphis-iis/datawhys-workshop-notebooks-2024/main/datasets/covid19%20-%20cases.csv')\n",
        "\n",
        "#<xml xmlns=\"https://developers.google.com/blockly/xml\">"
      ]
    },
    {
      "cell_type": "markdown",
      "metadata": {
        "deletable": false,
        "editable": false,
        "id": "5ILdhRY15bhS"
      },
      "source": [
        "When you run the cell, it will display the dataframe directly below it.\n",
        "This is one of the nice things about Jupyter - **it will display the output of the last line of code in a cell**, even if the output is text, a table, or a plot.\n",
        "\n",
        "Right now, we haven't actually stored the dataframe anywhere.\n",
        "We used `pd` to read the csv file, and then Jupyter output that so we could see it.\n",
        "But if we wanted to do anything with the dataframe, we'd have to read the file again.\n",
        "\n",
        "Instead of reading the file every time we want to access the data, we can **store it in a variable**.\n",
        "In other words, we will create a variable and set it to be the dataframe we created from the file.\n",
        "\n",
        "Using VARIABLES menu in the Blockly palette, click on `Create variable...` and type `dataframe` into the pop up window.\n",
        "Then click on the `set dataframe to` block so that your blocks below look like this:\n",
        "\n",
        "![img](https://pbs.twimg.com/media/GC3eK0oWUAA71Dy?format=png&name=240x240)"
      ]
    },
    {
      "cell_type": "markdown",
      "metadata": {
        "deletable": false,
        "editable": false,
        "id": "u3h9DSC25bhS"
      },
      "source": [
        "Then go get the same blocks you used before to read the file and connect them to the `set dataframe to` block.\n",
        "You can do this from scratch or you can use the following procedure:\n",
        "\n",
        "- Press `Blocks to Code` to save your intermediate work (the `set dataframe to` block)\n",
        "- Go back to the previous cell, click on the block you want, and copy it using Ctrl+c\n",
        "- Click on the cell below to select it, click the Blockly workspace, and paste the block using Ctrl+v\n",
        "\n",
        "*Tip: If you don't save your intermediate work, you'll lose it because `Notebook Sync` will clear the Blockly workspace when it loads the blocks in the previous cell.*\n",
        "\n",
        "After you've added the blocks to read the dataframe, drop a variable block for `dataframe` underneath it to display the dataframe.\n",
        "\n",
        "In the future, we will abbreviate these steps as:\n",
        "\n",
        "- Create `dataframe` and set it to `with pd do read_csv using \"covid19%20-%20cases.csv\"`\n",
        "- `dataframe`\n",
        "\n",
        "As always, you need to hit the &#9658; button or press Shift + Enter to run the code."
      ]
    },
    {
      "cell_type": "code",
      "execution_count": 2,
      "metadata": {
        "colab": {
          "base_uri": "https://localhost:8080/"
        },
        "id": "3dj8mh265bhT",
        "outputId": "e7590b2f-8412-495d-d796-24e2ce07bffe"
      },
      "outputs": [
        {
          "output_type": "stream",
          "name": "stdout",
          "text": [
            "        date  Brazil  India      US\n",
            "0    1/23/20       0      0       0\n",
            "1    1/24/20       0      0       1\n",
            "2    1/25/20       0      0       0\n",
            "3    1/26/20       0      0       3\n",
            "4    1/27/20       0      0       0\n",
            "..       ...     ...    ...     ...\n",
            "581  8/26/21   31024  44658  161331\n",
            "582  8/27/21   27345  46759  322934\n",
            "583  8/28/21   24699  45083   53069\n",
            "584  8/29/21   13210  42909   38473\n",
            "585  8/30/21   10466  30941  258532\n",
            "\n",
            "[586 rows x 4 columns]\n"
          ]
        }
      ],
      "source": [
        "dataframe = pd.read_csv('https://raw.githubusercontent.com/memphis-iis/datawhys-workshop-notebooks-2024/main/datasets/covid19%20-%20cases.csv')\n",
        "\n",
        "print(dataframe)\n",
        "\n",
        "#<xml xmlns=\"https://developers.google.com/blockly/xml\">"
      ]
    },
    {
      "cell_type": "markdown",
      "source": [
        "You should see the same output as before - the only difference is that we've read the csv and stored the data into the `dataframe` block, so we will use the `dataframe` block whenever we want to work with the data.\n"
      ],
      "metadata": {
        "id": "Y78XjxvkB_id"
      }
    },
    {
      "cell_type": "markdown",
      "source": [
        "## Data visualization\n",
        "\n",
        "Data visualization is the discipline of trying to understand data by using graphic context so patterns, trends, and correlations that might not otherwise be detected can be exposed.\n",
        "\n",
        "Data visualization is an important tool to understand data.\n",
        "\n",
        "Charts, plots, graphs, and maps (and many more) are all types of data visualizations.\n",
        "\n",
        "There are many facets involved in data visualization; this tutorial is just the introduction in your Python plotting journey.\n",
        "\n",
        "Today we will focus on the most often used plots:\n",
        "\n",
        "- Scatter plots\n",
        "- Bar plots\n",
        "- Line plots\n",
        "- Histograms\n",
        "\n",
        "**Each type of plot requires a specific type of data and has a specific purpose.**\n",
        "\n",
        "<!-- By the end of this introduction, you will have mastered:\n",
        "\n",
        "- plot basics and how to read a graph\n",
        "- data transformation\n",
        "- a normal vs. not normal distribution\n",
        "- misleading graphs -->"
      ],
      "metadata": {
        "id": "IkayVKyaCLYi"
      }
    },
    {
      "cell_type": "markdown",
      "source": [
        "### Plotly\n",
        "\n",
        "In Python, there are many options for visualizing data and is often challenging to choose which library to use.\n",
        "\n",
        "<!-- The most common libraries used for plotting include:\n",
        "\n",
        "- <a href=\"https://altair-viz.github.io\" target=\"_top\">`altair`</a>\n",
        "- <a href=\"https://docs.bokeh.org/en/latest/\" target=\"_top\">`bokeh`</a>\n",
        "- <a href=\"http://ggplot.yhathq.com\" target=\"_top\">`ggplot`</a>\n",
        "- <a href=\"https://matplotlib.org\" target=\"_top\">`matplotlib`</a>\n",
        "- <a href=\"https://pandas.pydata.org\" target=\"_top\">`pandas`</a>\n",
        "- <a href=\"https://plotly.com\" target=\"_top\">`plotly`</a>\n",
        "- <a href=\"http://www.pygal.org/en/stable/\" target=\"_top\">`pygal`</a>\n",
        "- <a href=\"http://seaborn.pydata.org\" target=\"_top\">`seaborn`</a>\n",
        "\n",
        "The documentation for each library can be found in the links above.  -->\n",
        "\n",
        "For the purpose of this tutorial, we will focus on understanding, programming, and interpreting plots from `plotly`.\n",
        "\n",
        "`plotly` is a Python library that produces interactive plots.\n",
        "\n",
        "That means you can use your mouse to interact with the plot after you've created it.\n",
        "\n",
        "<!-- It has a robust API, including one for python. Versions of `plotly`  $< 4$ are online. Versions of `plotly`  $\\geq 4$ are offline, and the online functionality has been moved to the `chart-studio` library.  -->\n",
        "\n",
        "To use `plotly`,\n",
        "\n",
        "- `import plotly.express` as `px`\n",
        "\n",
        "**Make sure you run the cell using the &#9658; button or Shift + Enter**"
      ],
      "metadata": {
        "id": "n-zRCN9ICpVw"
      }
    },
    {
      "cell_type": "markdown",
      "source": [
        "### Line plots\n",
        "\n",
        "Line plots are virtually identical to bar plots in usage because they:\n",
        "\n",
        "- Require the x to be discrete values\n",
        "- Require the y to be a single number per x\n",
        "\n",
        "To make a line plot:\n",
        "\n",
        "- Get a `with px do line using` block\n",
        "\n",
        "On our case, we have the `date` column as the X axis and the `US` column as the Y axis.\n",
        "\n",
        "![line chart blocks](https://pbs.twimg.com/media/GDAuB2-XoAA3sQm?format=png&name=360x360)\n",
        "\n",
        "Which generates the followin code:"
      ],
      "metadata": {
        "id": "2KgpS0wbQN2n"
      }
    },
    {
      "cell_type": "code",
      "source": [
        "import plotly.express  as px\n",
        "import pandas as pd\n",
        "grades = pd.read_csv('https://raw.githubusercontent.com/lcbjrrr/quant/master/covid19%20-%20cases.csv')\n",
        "(px.line(grades,'date','US'))\n",
        "\n",
        "#<xml xmlns=\"https://developers.google.com/blockly/xml\">"
      ],
      "metadata": {
        "colab": {
          "base_uri": "https://localhost:8080/",
          "height": 542
        },
        "id": "pHl-8mL8R4ES",
        "outputId": "7e914d0c-c392-4150-ae5b-faceca05272e"
      },
      "execution_count": 7,
      "outputs": [
        {
          "output_type": "display_data",
          "data": {
            "text/html": [
              "<html>\n",
              "<head><meta charset=\"utf-8\" /></head>\n",
              "<body>\n",
              "    <div>            <script src=\"https://cdnjs.cloudflare.com/ajax/libs/mathjax/2.7.5/MathJax.js?config=TeX-AMS-MML_SVG\"></script><script type=\"text/javascript\">if (window.MathJax && window.MathJax.Hub && window.MathJax.Hub.Config) {window.MathJax.Hub.Config({SVG: {font: \"STIX-Web\"}});}</script>                <script type=\"text/javascript\">window.PlotlyConfig = {MathJaxConfig: 'local'};</script>\n",
              "        <script charset=\"utf-8\" src=\"https://cdn.plot.ly/plotly-2.24.1.min.js\"></script>                <div id=\"2c59fffe-bfc5-4ead-9e1d-e0534589eb7b\" class=\"plotly-graph-div\" style=\"height:525px; width:100%;\"></div>            <script type=\"text/javascript\">                                    window.PLOTLYENV=window.PLOTLYENV || {};                                    if (document.getElementById(\"2c59fffe-bfc5-4ead-9e1d-e0534589eb7b\")) {                    Plotly.newPlot(                        \"2c59fffe-bfc5-4ead-9e1d-e0534589eb7b\",                        [{\"hovertemplate\":\"date=%{x}\\u003cbr\\u003eUS=%{y}\\u003cextra\\u003e\\u003c\\u002fextra\\u003e\",\"legendgroup\":\"\",\"line\":{\"color\":\"#636efa\",\"dash\":\"solid\"},\"marker\":{\"symbol\":\"circle\"},\"mode\":\"lines\",\"name\":\"\",\"orientation\":\"v\",\"showlegend\":false,\"x\":[\"1\\u002f23\\u002f20\",\"1\\u002f24\\u002f20\",\"1\\u002f25\\u002f20\",\"1\\u002f26\\u002f20\",\"1\\u002f27\\u002f20\",\"1\\u002f28\\u002f20\",\"1\\u002f29\\u002f20\",\"1\\u002f30\\u002f20\",\"1\\u002f31\\u002f20\",\"2\\u002f1\\u002f20\",\"2\\u002f2\\u002f20\",\"2\\u002f3\\u002f20\",\"2\\u002f4\\u002f20\",\"2\\u002f5\\u002f20\",\"2\\u002f6\\u002f20\",\"2\\u002f7\\u002f20\",\"2\\u002f8\\u002f20\",\"2\\u002f9\\u002f20\",\"2\\u002f10\\u002f20\",\"2\\u002f11\\u002f20\",\"2\\u002f12\\u002f20\",\"2\\u002f13\\u002f20\",\"2\\u002f14\\u002f20\",\"2\\u002f15\\u002f20\",\"2\\u002f16\\u002f20\",\"2\\u002f17\\u002f20\",\"2\\u002f18\\u002f20\",\"2\\u002f19\\u002f20\",\"2\\u002f20\\u002f20\",\"2\\u002f21\\u002f20\",\"2\\u002f22\\u002f20\",\"2\\u002f23\\u002f20\",\"2\\u002f24\\u002f20\",\"2\\u002f25\\u002f20\",\"2\\u002f26\\u002f20\",\"2\\u002f27\\u002f20\",\"2\\u002f28\\u002f20\",\"2\\u002f29\\u002f20\",\"3\\u002f1\\u002f20\",\"3\\u002f2\\u002f20\",\"3\\u002f3\\u002f20\",\"3\\u002f4\\u002f20\",\"3\\u002f5\\u002f20\",\"3\\u002f6\\u002f20\",\"3\\u002f7\\u002f20\",\"3\\u002f8\\u002f20\",\"3\\u002f9\\u002f20\",\"3\\u002f10\\u002f20\",\"3\\u002f11\\u002f20\",\"3\\u002f12\\u002f20\",\"3\\u002f13\\u002f20\",\"3\\u002f14\\u002f20\",\"3\\u002f15\\u002f20\",\"3\\u002f16\\u002f20\",\"3\\u002f17\\u002f20\",\"3\\u002f18\\u002f20\",\"3\\u002f19\\u002f20\",\"3\\u002f20\\u002f20\",\"3\\u002f21\\u002f20\",\"3\\u002f22\\u002f20\",\"3\\u002f23\\u002f20\",\"3\\u002f24\\u002f20\",\"3\\u002f25\\u002f20\",\"3\\u002f26\\u002f20\",\"3\\u002f27\\u002f20\",\"3\\u002f28\\u002f20\",\"3\\u002f29\\u002f20\",\"3\\u002f30\\u002f20\",\"3\\u002f31\\u002f20\",\"4\\u002f1\\u002f20\",\"4\\u002f2\\u002f20\",\"4\\u002f3\\u002f20\",\"4\\u002f4\\u002f20\",\"4\\u002f5\\u002f20\",\"4\\u002f6\\u002f20\",\"4\\u002f7\\u002f20\",\"4\\u002f8\\u002f20\",\"4\\u002f9\\u002f20\",\"4\\u002f10\\u002f20\",\"4\\u002f11\\u002f20\",\"4\\u002f12\\u002f20\",\"4\\u002f13\\u002f20\",\"4\\u002f14\\u002f20\",\"4\\u002f15\\u002f20\",\"4\\u002f16\\u002f20\",\"4\\u002f17\\u002f20\",\"4\\u002f18\\u002f20\",\"4\\u002f19\\u002f20\",\"4\\u002f20\\u002f20\",\"4\\u002f21\\u002f20\",\"4\\u002f22\\u002f20\",\"4\\u002f23\\u002f20\",\"4\\u002f24\\u002f20\",\"4\\u002f25\\u002f20\",\"4\\u002f26\\u002f20\",\"4\\u002f27\\u002f20\",\"4\\u002f28\\u002f20\",\"4\\u002f29\\u002f20\",\"4\\u002f30\\u002f20\",\"5\\u002f1\\u002f20\",\"5\\u002f2\\u002f20\",\"5\\u002f3\\u002f20\",\"5\\u002f4\\u002f20\",\"5\\u002f5\\u002f20\",\"5\\u002f6\\u002f20\",\"5\\u002f7\\u002f20\",\"5\\u002f8\\u002f20\",\"5\\u002f9\\u002f20\",\"5\\u002f10\\u002f20\",\"5\\u002f11\\u002f20\",\"5\\u002f12\\u002f20\",\"5\\u002f13\\u002f20\",\"5\\u002f14\\u002f20\",\"5\\u002f15\\u002f20\",\"5\\u002f16\\u002f20\",\"5\\u002f17\\u002f20\",\"5\\u002f18\\u002f20\",\"5\\u002f19\\u002f20\",\"5\\u002f20\\u002f20\",\"5\\u002f21\\u002f20\",\"5\\u002f22\\u002f20\",\"5\\u002f23\\u002f20\",\"5\\u002f24\\u002f20\",\"5\\u002f25\\u002f20\",\"5\\u002f26\\u002f20\",\"5\\u002f27\\u002f20\",\"5\\u002f28\\u002f20\",\"5\\u002f29\\u002f20\",\"5\\u002f30\\u002f20\",\"5\\u002f31\\u002f20\",\"6\\u002f1\\u002f20\",\"6\\u002f2\\u002f20\",\"6\\u002f3\\u002f20\",\"6\\u002f4\\u002f20\",\"6\\u002f5\\u002f20\",\"6\\u002f6\\u002f20\",\"6\\u002f7\\u002f20\",\"6\\u002f8\\u002f20\",\"6\\u002f9\\u002f20\",\"6\\u002f10\\u002f20\",\"6\\u002f11\\u002f20\",\"6\\u002f12\\u002f20\",\"6\\u002f13\\u002f20\",\"6\\u002f14\\u002f20\",\"6\\u002f15\\u002f20\",\"6\\u002f16\\u002f20\",\"6\\u002f17\\u002f20\",\"6\\u002f18\\u002f20\",\"6\\u002f19\\u002f20\",\"6\\u002f20\\u002f20\",\"6\\u002f21\\u002f20\",\"6\\u002f22\\u002f20\",\"6\\u002f23\\u002f20\",\"6\\u002f24\\u002f20\",\"6\\u002f25\\u002f20\",\"6\\u002f26\\u002f20\",\"6\\u002f27\\u002f20\",\"6\\u002f28\\u002f20\",\"6\\u002f29\\u002f20\",\"6\\u002f30\\u002f20\",\"7\\u002f1\\u002f20\",\"7\\u002f2\\u002f20\",\"7\\u002f3\\u002f20\",\"7\\u002f4\\u002f20\",\"7\\u002f5\\u002f20\",\"7\\u002f6\\u002f20\",\"7\\u002f7\\u002f20\",\"7\\u002f8\\u002f20\",\"7\\u002f9\\u002f20\",\"7\\u002f10\\u002f20\",\"7\\u002f11\\u002f20\",\"7\\u002f12\\u002f20\",\"7\\u002f13\\u002f20\",\"7\\u002f14\\u002f20\",\"7\\u002f15\\u002f20\",\"7\\u002f16\\u002f20\",\"7\\u002f17\\u002f20\",\"7\\u002f18\\u002f20\",\"7\\u002f19\\u002f20\",\"7\\u002f20\\u002f20\",\"7\\u002f21\\u002f20\",\"7\\u002f22\\u002f20\",\"7\\u002f23\\u002f20\",\"7\\u002f24\\u002f20\",\"7\\u002f25\\u002f20\",\"7\\u002f26\\u002f20\",\"7\\u002f27\\u002f20\",\"7\\u002f28\\u002f20\",\"7\\u002f29\\u002f20\",\"7\\u002f30\\u002f20\",\"7\\u002f31\\u002f20\",\"8\\u002f1\\u002f20\",\"8\\u002f2\\u002f20\",\"8\\u002f3\\u002f20\",\"8\\u002f4\\u002f20\",\"8\\u002f5\\u002f20\",\"8\\u002f6\\u002f20\",\"8\\u002f7\\u002f20\",\"8\\u002f8\\u002f20\",\"8\\u002f9\\u002f20\",\"8\\u002f10\\u002f20\",\"8\\u002f11\\u002f20\",\"8\\u002f12\\u002f20\",\"8\\u002f13\\u002f20\",\"8\\u002f14\\u002f20\",\"8\\u002f15\\u002f20\",\"8\\u002f16\\u002f20\",\"8\\u002f17\\u002f20\",\"8\\u002f18\\u002f20\",\"8\\u002f19\\u002f20\",\"8\\u002f20\\u002f20\",\"8\\u002f21\\u002f20\",\"8\\u002f22\\u002f20\",\"8\\u002f23\\u002f20\",\"8\\u002f24\\u002f20\",\"8\\u002f25\\u002f20\",\"8\\u002f26\\u002f20\",\"8\\u002f27\\u002f20\",\"8\\u002f28\\u002f20\",\"8\\u002f29\\u002f20\",\"8\\u002f30\\u002f20\",\"8\\u002f31\\u002f20\",\"9\\u002f1\\u002f20\",\"9\\u002f2\\u002f20\",\"9\\u002f3\\u002f20\",\"9\\u002f4\\u002f20\",\"9\\u002f5\\u002f20\",\"9\\u002f6\\u002f20\",\"9\\u002f7\\u002f20\",\"9\\u002f8\\u002f20\",\"9\\u002f9\\u002f20\",\"9\\u002f10\\u002f20\",\"9\\u002f11\\u002f20\",\"9\\u002f12\\u002f20\",\"9\\u002f13\\u002f20\",\"9\\u002f14\\u002f20\",\"9\\u002f15\\u002f20\",\"9\\u002f16\\u002f20\",\"9\\u002f17\\u002f20\",\"9\\u002f18\\u002f20\",\"9\\u002f19\\u002f20\",\"9\\u002f20\\u002f20\",\"9\\u002f21\\u002f20\",\"9\\u002f22\\u002f20\",\"9\\u002f23\\u002f20\",\"9\\u002f24\\u002f20\",\"9\\u002f25\\u002f20\",\"9\\u002f26\\u002f20\",\"9\\u002f27\\u002f20\",\"9\\u002f28\\u002f20\",\"9\\u002f29\\u002f20\",\"9\\u002f30\\u002f20\",\"10\\u002f1\\u002f20\",\"10\\u002f2\\u002f20\",\"10\\u002f3\\u002f20\",\"10\\u002f4\\u002f20\",\"10\\u002f5\\u002f20\",\"10\\u002f6\\u002f20\",\"10\\u002f7\\u002f20\",\"10\\u002f8\\u002f20\",\"10\\u002f9\\u002f20\",\"10\\u002f10\\u002f20\",\"10\\u002f11\\u002f20\",\"10\\u002f12\\u002f20\",\"10\\u002f13\\u002f20\",\"10\\u002f14\\u002f20\",\"10\\u002f15\\u002f20\",\"10\\u002f16\\u002f20\",\"10\\u002f17\\u002f20\",\"10\\u002f18\\u002f20\",\"10\\u002f19\\u002f20\",\"10\\u002f20\\u002f20\",\"10\\u002f21\\u002f20\",\"10\\u002f22\\u002f20\",\"10\\u002f23\\u002f20\",\"10\\u002f24\\u002f20\",\"10\\u002f25\\u002f20\",\"10\\u002f26\\u002f20\",\"10\\u002f27\\u002f20\",\"10\\u002f28\\u002f20\",\"10\\u002f29\\u002f20\",\"10\\u002f30\\u002f20\",\"10\\u002f31\\u002f20\",\"11\\u002f1\\u002f20\",\"11\\u002f2\\u002f20\",\"11\\u002f3\\u002f20\",\"11\\u002f4\\u002f20\",\"11\\u002f5\\u002f20\",\"11\\u002f6\\u002f20\",\"11\\u002f7\\u002f20\",\"11\\u002f8\\u002f20\",\"11\\u002f9\\u002f20\",\"11\\u002f10\\u002f20\",\"11\\u002f11\\u002f20\",\"11\\u002f12\\u002f20\",\"11\\u002f13\\u002f20\",\"11\\u002f14\\u002f20\",\"11\\u002f15\\u002f20\",\"11\\u002f16\\u002f20\",\"11\\u002f17\\u002f20\",\"11\\u002f18\\u002f20\",\"11\\u002f19\\u002f20\",\"11\\u002f20\\u002f20\",\"11\\u002f21\\u002f20\",\"11\\u002f22\\u002f20\",\"11\\u002f23\\u002f20\",\"11\\u002f24\\u002f20\",\"11\\u002f25\\u002f20\",\"11\\u002f26\\u002f20\",\"11\\u002f27\\u002f20\",\"11\\u002f28\\u002f20\",\"11\\u002f29\\u002f20\",\"11\\u002f30\\u002f20\",\"12\\u002f1\\u002f20\",\"12\\u002f2\\u002f20\",\"12\\u002f3\\u002f20\",\"12\\u002f4\\u002f20\",\"12\\u002f5\\u002f20\",\"12\\u002f6\\u002f20\",\"12\\u002f7\\u002f20\",\"12\\u002f8\\u002f20\",\"12\\u002f9\\u002f20\",\"12\\u002f10\\u002f20\",\"12\\u002f11\\u002f20\",\"12\\u002f12\\u002f20\",\"12\\u002f13\\u002f20\",\"12\\u002f14\\u002f20\",\"12\\u002f15\\u002f20\",\"12\\u002f16\\u002f20\",\"12\\u002f17\\u002f20\",\"12\\u002f18\\u002f20\",\"12\\u002f19\\u002f20\",\"12\\u002f20\\u002f20\",\"12\\u002f21\\u002f20\",\"12\\u002f22\\u002f20\",\"12\\u002f23\\u002f20\",\"12\\u002f24\\u002f20\",\"12\\u002f25\\u002f20\",\"12\\u002f26\\u002f20\",\"12\\u002f27\\u002f20\",\"12\\u002f28\\u002f20\",\"12\\u002f29\\u002f20\",\"12\\u002f30\\u002f20\",\"12\\u002f31\\u002f20\",\"1\\u002f1\\u002f21\",\"1\\u002f2\\u002f21\",\"1\\u002f3\\u002f21\",\"1\\u002f4\\u002f21\",\"1\\u002f5\\u002f21\",\"1\\u002f6\\u002f21\",\"1\\u002f7\\u002f21\",\"1\\u002f8\\u002f21\",\"1\\u002f9\\u002f21\",\"1\\u002f10\\u002f21\",\"1\\u002f11\\u002f21\",\"1\\u002f12\\u002f21\",\"1\\u002f13\\u002f21\",\"1\\u002f14\\u002f21\",\"1\\u002f15\\u002f21\",\"1\\u002f16\\u002f21\",\"1\\u002f17\\u002f21\",\"1\\u002f18\\u002f21\",\"1\\u002f19\\u002f21\",\"1\\u002f20\\u002f21\",\"1\\u002f21\\u002f21\",\"1\\u002f22\\u002f21\",\"1\\u002f23\\u002f21\",\"1\\u002f24\\u002f21\",\"1\\u002f25\\u002f21\",\"1\\u002f26\\u002f21\",\"1\\u002f27\\u002f21\",\"1\\u002f28\\u002f21\",\"1\\u002f29\\u002f21\",\"1\\u002f30\\u002f21\",\"1\\u002f31\\u002f21\",\"2\\u002f1\\u002f21\",\"2\\u002f2\\u002f21\",\"2\\u002f3\\u002f21\",\"2\\u002f4\\u002f21\",\"2\\u002f5\\u002f21\",\"2\\u002f6\\u002f21\",\"2\\u002f7\\u002f21\",\"2\\u002f8\\u002f21\",\"2\\u002f9\\u002f21\",\"2\\u002f10\\u002f21\",\"2\\u002f11\\u002f21\",\"2\\u002f12\\u002f21\",\"2\\u002f13\\u002f21\",\"2\\u002f14\\u002f21\",\"2\\u002f15\\u002f21\",\"2\\u002f16\\u002f21\",\"2\\u002f17\\u002f21\",\"2\\u002f18\\u002f21\",\"2\\u002f19\\u002f21\",\"2\\u002f20\\u002f21\",\"2\\u002f21\\u002f21\",\"2\\u002f22\\u002f21\",\"2\\u002f23\\u002f21\",\"2\\u002f24\\u002f21\",\"2\\u002f25\\u002f21\",\"2\\u002f26\\u002f21\",\"2\\u002f27\\u002f21\",\"2\\u002f28\\u002f21\",\"3\\u002f1\\u002f21\",\"3\\u002f2\\u002f21\",\"3\\u002f3\\u002f21\",\"3\\u002f4\\u002f21\",\"3\\u002f5\\u002f21\",\"3\\u002f6\\u002f21\",\"3\\u002f7\\u002f21\",\"3\\u002f8\\u002f21\",\"3\\u002f9\\u002f21\",\"3\\u002f10\\u002f21\",\"3\\u002f11\\u002f21\",\"3\\u002f12\\u002f21\",\"3\\u002f13\\u002f21\",\"3\\u002f14\\u002f21\",\"3\\u002f15\\u002f21\",\"3\\u002f16\\u002f21\",\"3\\u002f17\\u002f21\",\"3\\u002f18\\u002f21\",\"3\\u002f19\\u002f21\",\"3\\u002f20\\u002f21\",\"3\\u002f21\\u002f21\",\"3\\u002f22\\u002f21\",\"3\\u002f23\\u002f21\",\"3\\u002f24\\u002f21\",\"3\\u002f25\\u002f21\",\"3\\u002f26\\u002f21\",\"3\\u002f27\\u002f21\",\"3\\u002f28\\u002f21\",\"3\\u002f29\\u002f21\",\"3\\u002f30\\u002f21\",\"3\\u002f31\\u002f21\",\"4\\u002f1\\u002f21\",\"4\\u002f2\\u002f21\",\"4\\u002f3\\u002f21\",\"4\\u002f4\\u002f21\",\"4\\u002f5\\u002f21\",\"4\\u002f6\\u002f21\",\"4\\u002f7\\u002f21\",\"4\\u002f8\\u002f21\",\"4\\u002f9\\u002f21\",\"4\\u002f10\\u002f21\",\"4\\u002f11\\u002f21\",\"4\\u002f12\\u002f21\",\"4\\u002f13\\u002f21\",\"4\\u002f14\\u002f21\",\"4\\u002f15\\u002f21\",\"4\\u002f16\\u002f21\",\"4\\u002f17\\u002f21\",\"4\\u002f18\\u002f21\",\"4\\u002f19\\u002f21\",\"4\\u002f20\\u002f21\",\"4\\u002f21\\u002f21\",\"4\\u002f22\\u002f21\",\"4\\u002f23\\u002f21\",\"4\\u002f24\\u002f21\",\"4\\u002f25\\u002f21\",\"4\\u002f26\\u002f21\",\"4\\u002f27\\u002f21\",\"4\\u002f28\\u002f21\",\"4\\u002f29\\u002f21\",\"4\\u002f30\\u002f21\",\"5\\u002f1\\u002f21\",\"5\\u002f2\\u002f21\",\"5\\u002f3\\u002f21\",\"5\\u002f4\\u002f21\",\"5\\u002f5\\u002f21\",\"5\\u002f6\\u002f21\",\"5\\u002f7\\u002f21\",\"5\\u002f8\\u002f21\",\"5\\u002f9\\u002f21\",\"5\\u002f10\\u002f21\",\"5\\u002f11\\u002f21\",\"5\\u002f12\\u002f21\",\"5\\u002f13\\u002f21\",\"5\\u002f14\\u002f21\",\"5\\u002f15\\u002f21\",\"5\\u002f16\\u002f21\",\"5\\u002f17\\u002f21\",\"5\\u002f18\\u002f21\",\"5\\u002f19\\u002f21\",\"5\\u002f20\\u002f21\",\"5\\u002f21\\u002f21\",\"5\\u002f22\\u002f21\",\"5\\u002f23\\u002f21\",\"5\\u002f24\\u002f21\",\"5\\u002f25\\u002f21\",\"5\\u002f26\\u002f21\",\"5\\u002f27\\u002f21\",\"5\\u002f28\\u002f21\",\"5\\u002f29\\u002f21\",\"5\\u002f30\\u002f21\",\"5\\u002f31\\u002f21\",\"6\\u002f1\\u002f21\",\"6\\u002f2\\u002f21\",\"6\\u002f3\\u002f21\",\"6\\u002f4\\u002f21\",\"6\\u002f5\\u002f21\",\"6\\u002f6\\u002f21\",\"6\\u002f7\\u002f21\",\"6\\u002f8\\u002f21\",\"6\\u002f9\\u002f21\",\"6\\u002f10\\u002f21\",\"6\\u002f11\\u002f21\",\"6\\u002f12\\u002f21\",\"6\\u002f13\\u002f21\",\"6\\u002f14\\u002f21\",\"6\\u002f15\\u002f21\",\"6\\u002f16\\u002f21\",\"6\\u002f17\\u002f21\",\"6\\u002f18\\u002f21\",\"6\\u002f19\\u002f21\",\"6\\u002f20\\u002f21\",\"6\\u002f21\\u002f21\",\"6\\u002f22\\u002f21\",\"6\\u002f23\\u002f21\",\"6\\u002f24\\u002f21\",\"6\\u002f25\\u002f21\",\"6\\u002f26\\u002f21\",\"6\\u002f27\\u002f21\",\"6\\u002f28\\u002f21\",\"6\\u002f29\\u002f21\",\"6\\u002f30\\u002f21\",\"7\\u002f1\\u002f21\",\"7\\u002f2\\u002f21\",\"7\\u002f3\\u002f21\",\"7\\u002f4\\u002f21\",\"7\\u002f5\\u002f21\",\"7\\u002f6\\u002f21\",\"7\\u002f7\\u002f21\",\"7\\u002f8\\u002f21\",\"7\\u002f9\\u002f21\",\"7\\u002f10\\u002f21\",\"7\\u002f11\\u002f21\",\"7\\u002f12\\u002f21\",\"7\\u002f13\\u002f21\",\"7\\u002f14\\u002f21\",\"7\\u002f15\\u002f21\",\"7\\u002f16\\u002f21\",\"7\\u002f17\\u002f21\",\"7\\u002f18\\u002f21\",\"7\\u002f19\\u002f21\",\"7\\u002f20\\u002f21\",\"7\\u002f21\\u002f21\",\"7\\u002f22\\u002f21\",\"7\\u002f23\\u002f21\",\"7\\u002f24\\u002f21\",\"7\\u002f25\\u002f21\",\"7\\u002f26\\u002f21\",\"7\\u002f27\\u002f21\",\"7\\u002f28\\u002f21\",\"7\\u002f29\\u002f21\",\"7\\u002f30\\u002f21\",\"7\\u002f31\\u002f21\",\"8\\u002f1\\u002f21\",\"8\\u002f2\\u002f21\",\"8\\u002f3\\u002f21\",\"8\\u002f4\\u002f21\",\"8\\u002f5\\u002f21\",\"8\\u002f6\\u002f21\",\"8\\u002f7\\u002f21\",\"8\\u002f8\\u002f21\",\"8\\u002f9\\u002f21\",\"8\\u002f10\\u002f21\",\"8\\u002f11\\u002f21\",\"8\\u002f12\\u002f21\",\"8\\u002f13\\u002f21\",\"8\\u002f14\\u002f21\",\"8\\u002f15\\u002f21\",\"8\\u002f16\\u002f21\",\"8\\u002f17\\u002f21\",\"8\\u002f18\\u002f21\",\"8\\u002f19\\u002f21\",\"8\\u002f20\\u002f21\",\"8\\u002f21\\u002f21\",\"8\\u002f22\\u002f21\",\"8\\u002f23\\u002f21\",\"8\\u002f24\\u002f21\",\"8\\u002f25\\u002f21\",\"8\\u002f26\\u002f21\",\"8\\u002f27\\u002f21\",\"8\\u002f28\\u002f21\",\"8\\u002f29\\u002f21\",\"8\\u002f30\\u002f21\"],\"xaxis\":\"x\",\"y\":[0,1,0,3,0,0,1,0,2,0,0,3,0,0,1,0,0,0,0,1,0,1,0,0,0,0,0,0,0,2,0,0,0,0,0,1,0,8,7,23,19,33,77,53,166,116,75,188,365,439,633,759,234,1467,1833,2657,4494,6367,5995,8873,11238,10619,12082,17856,18690,19630,18899,22075,26314,32286,32222,32307,32386,29895,31390,30779,31235,35942,34403,29083,27256,26939,28818,25408,30002,33066,27907,26062,29820,25926,28911,33612,32327,30380,26488,23715,24575,26459,29205,34907,27348,24321,24068,24528,24569,27429,26830,25176,18805,19298,22927,20433,26817,24733,24135,18388,22389,20979,22725,25769,23649,21099,20077,18662,19663,18551,22320,24478,23632,18983,17414,21502,19857,21658,25403,21142,17928,17616,18383,21111,23166,24828,25212,18941,19827,23667,27072,28537,31544,32280,25150,32144,37072,35878,40326,45999,41330,40734,41299,46420,51820,56636,51351,45693,50747,43106,60661,60119,62509,68057,60017,58424,58930,68051,68090,75866,72236,62536,60456,62107,64461,70579,68445,73319,64953,54816,56783,66412,71873,67466,68712,56201,45568,45501,58774,54466,59349,59303,54134,45769,47606,48003,56040,51316,65336,46951,39212,36652,45033,47320,44041,48843,43064,34247,36482,40354,45172,45393,46832,42754,34404,35362,41846,41018,44251,50382,43158,31218,23613,27226,34049,36056,47769,41101,34372,34423,39492,39030,45130,49282,42202,38447,51878,39866,39069,47103,48295,44673,37528,33294,43338,39443,45650,54950,48577,35738,39376,45289,51056,58599,56384,54953,45981,41774,52231,59778,64880,69147,56759,49367,67717,61956,63301,76310,81933,82767,62204,67310,76838,79426,91019,99264,89754,104900,85211,127198,104541,129367,128033,127510,115170,120434,140504,146750,164750,180398,167926,136356,162624,163958,173251,191510,198333,179436,146947,174089,175544,183403,112526,207933,155661,140328,160321,188339,202894,223421,232644,215811,181253,194409,224452,222648,231428,240089,217797,187971,194314,208992,246644,239922,251820,192103,188004,198703,198123,229625,194138,97880,226416,155845,174152,200439,233691,235584,153911,300462,208853,184005,235042,255660,278314,295257,260967,213415,214687,226944,230301,235766,242866,201858,177845,143598,176216,183261,193872,190758,170745,131198,151677,147626,153961,168804,166622,142473,112152,134952,115307,121697,123996,134422,104193,89729,90445,95258,95270,105763,99651,87219,65153,54261,62498,70152,69898,79282,71700,57152,56165,72260,74749,77504,77349,64626,51422,58098,57147,67142,68070,66419,58265,41073,44896,57678,57890,62465,61513,53031,38278,56541,54008,59316,60391,61680,55523,33828,51436,53706,86829,67546,77377,62848,43217,69273,61429,66765,79143,69887,63261,35141,77372,60674,75030,79885,82710,66687,46509,70082,77959,75403,74314,80065,52532,42121,68105,60949,62858,67275,62423,53495,32153,47556,50836,55155,58251,57914,45404,29390,50491,40723,44730,47531,48188,33617,21440,36785,33662,35826,38076,42260,28857,16878,28621,27786,29321,30186,27946,19798,12913,25770,22755,23960,27491,21816,12001,6734,5775,22940,16944,19101,16850,13937,5395,15448,12982,18647,14545,24699,8228,4777,12745,11302,12431,10380,20598,8524,3892,12320,10976,12445,12846,23656,7308,3920,15085,11339,13139,14442,29899,4753,3697,5528,24250,22884,20076,48226,9066,6164,34995,26442,31878,28351,79310,12986,12048,52085,42703,52032,56842,119158,27802,13213,89358,70740,68771,78170,194608,32808,25141,127976,106557,92714,109824,254981,44082,24234,184476,106847,135071,116621,290764,42707,38482,210199,128902,137815,138472,319494,62678,33497,229831,135245,148143,161331,322934,53069,38473,258532],\"yaxis\":\"y\",\"type\":\"scatter\"}],                        {\"template\":{\"data\":{\"histogram2dcontour\":[{\"type\":\"histogram2dcontour\",\"colorbar\":{\"outlinewidth\":0,\"ticks\":\"\"},\"colorscale\":[[0.0,\"#0d0887\"],[0.1111111111111111,\"#46039f\"],[0.2222222222222222,\"#7201a8\"],[0.3333333333333333,\"#9c179e\"],[0.4444444444444444,\"#bd3786\"],[0.5555555555555556,\"#d8576b\"],[0.6666666666666666,\"#ed7953\"],[0.7777777777777778,\"#fb9f3a\"],[0.8888888888888888,\"#fdca26\"],[1.0,\"#f0f921\"]]}],\"choropleth\":[{\"type\":\"choropleth\",\"colorbar\":{\"outlinewidth\":0,\"ticks\":\"\"}}],\"histogram2d\":[{\"type\":\"histogram2d\",\"colorbar\":{\"outlinewidth\":0,\"ticks\":\"\"},\"colorscale\":[[0.0,\"#0d0887\"],[0.1111111111111111,\"#46039f\"],[0.2222222222222222,\"#7201a8\"],[0.3333333333333333,\"#9c179e\"],[0.4444444444444444,\"#bd3786\"],[0.5555555555555556,\"#d8576b\"],[0.6666666666666666,\"#ed7953\"],[0.7777777777777778,\"#fb9f3a\"],[0.8888888888888888,\"#fdca26\"],[1.0,\"#f0f921\"]]}],\"heatmap\":[{\"type\":\"heatmap\",\"colorbar\":{\"outlinewidth\":0,\"ticks\":\"\"},\"colorscale\":[[0.0,\"#0d0887\"],[0.1111111111111111,\"#46039f\"],[0.2222222222222222,\"#7201a8\"],[0.3333333333333333,\"#9c179e\"],[0.4444444444444444,\"#bd3786\"],[0.5555555555555556,\"#d8576b\"],[0.6666666666666666,\"#ed7953\"],[0.7777777777777778,\"#fb9f3a\"],[0.8888888888888888,\"#fdca26\"],[1.0,\"#f0f921\"]]}],\"heatmapgl\":[{\"type\":\"heatmapgl\",\"colorbar\":{\"outlinewidth\":0,\"ticks\":\"\"},\"colorscale\":[[0.0,\"#0d0887\"],[0.1111111111111111,\"#46039f\"],[0.2222222222222222,\"#7201a8\"],[0.3333333333333333,\"#9c179e\"],[0.4444444444444444,\"#bd3786\"],[0.5555555555555556,\"#d8576b\"],[0.6666666666666666,\"#ed7953\"],[0.7777777777777778,\"#fb9f3a\"],[0.8888888888888888,\"#fdca26\"],[1.0,\"#f0f921\"]]}],\"contourcarpet\":[{\"type\":\"contourcarpet\",\"colorbar\":{\"outlinewidth\":0,\"ticks\":\"\"}}],\"contour\":[{\"type\":\"contour\",\"colorbar\":{\"outlinewidth\":0,\"ticks\":\"\"},\"colorscale\":[[0.0,\"#0d0887\"],[0.1111111111111111,\"#46039f\"],[0.2222222222222222,\"#7201a8\"],[0.3333333333333333,\"#9c179e\"],[0.4444444444444444,\"#bd3786\"],[0.5555555555555556,\"#d8576b\"],[0.6666666666666666,\"#ed7953\"],[0.7777777777777778,\"#fb9f3a\"],[0.8888888888888888,\"#fdca26\"],[1.0,\"#f0f921\"]]}],\"surface\":[{\"type\":\"surface\",\"colorbar\":{\"outlinewidth\":0,\"ticks\":\"\"},\"colorscale\":[[0.0,\"#0d0887\"],[0.1111111111111111,\"#46039f\"],[0.2222222222222222,\"#7201a8\"],[0.3333333333333333,\"#9c179e\"],[0.4444444444444444,\"#bd3786\"],[0.5555555555555556,\"#d8576b\"],[0.6666666666666666,\"#ed7953\"],[0.7777777777777778,\"#fb9f3a\"],[0.8888888888888888,\"#fdca26\"],[1.0,\"#f0f921\"]]}],\"mesh3d\":[{\"type\":\"mesh3d\",\"colorbar\":{\"outlinewidth\":0,\"ticks\":\"\"}}],\"scatter\":[{\"fillpattern\":{\"fillmode\":\"overlay\",\"size\":10,\"solidity\":0.2},\"type\":\"scatter\"}],\"parcoords\":[{\"type\":\"parcoords\",\"line\":{\"colorbar\":{\"outlinewidth\":0,\"ticks\":\"\"}}}],\"scatterpolargl\":[{\"type\":\"scatterpolargl\",\"marker\":{\"colorbar\":{\"outlinewidth\":0,\"ticks\":\"\"}}}],\"bar\":[{\"error_x\":{\"color\":\"#2a3f5f\"},\"error_y\":{\"color\":\"#2a3f5f\"},\"marker\":{\"line\":{\"color\":\"#E5ECF6\",\"width\":0.5},\"pattern\":{\"fillmode\":\"overlay\",\"size\":10,\"solidity\":0.2}},\"type\":\"bar\"}],\"scattergeo\":[{\"type\":\"scattergeo\",\"marker\":{\"colorbar\":{\"outlinewidth\":0,\"ticks\":\"\"}}}],\"scatterpolar\":[{\"type\":\"scatterpolar\",\"marker\":{\"colorbar\":{\"outlinewidth\":0,\"ticks\":\"\"}}}],\"histogram\":[{\"marker\":{\"pattern\":{\"fillmode\":\"overlay\",\"size\":10,\"solidity\":0.2}},\"type\":\"histogram\"}],\"scattergl\":[{\"type\":\"scattergl\",\"marker\":{\"colorbar\":{\"outlinewidth\":0,\"ticks\":\"\"}}}],\"scatter3d\":[{\"type\":\"scatter3d\",\"line\":{\"colorbar\":{\"outlinewidth\":0,\"ticks\":\"\"}},\"marker\":{\"colorbar\":{\"outlinewidth\":0,\"ticks\":\"\"}}}],\"scattermapbox\":[{\"type\":\"scattermapbox\",\"marker\":{\"colorbar\":{\"outlinewidth\":0,\"ticks\":\"\"}}}],\"scatterternary\":[{\"type\":\"scatterternary\",\"marker\":{\"colorbar\":{\"outlinewidth\":0,\"ticks\":\"\"}}}],\"scattercarpet\":[{\"type\":\"scattercarpet\",\"marker\":{\"colorbar\":{\"outlinewidth\":0,\"ticks\":\"\"}}}],\"carpet\":[{\"aaxis\":{\"endlinecolor\":\"#2a3f5f\",\"gridcolor\":\"white\",\"linecolor\":\"white\",\"minorgridcolor\":\"white\",\"startlinecolor\":\"#2a3f5f\"},\"baxis\":{\"endlinecolor\":\"#2a3f5f\",\"gridcolor\":\"white\",\"linecolor\":\"white\",\"minorgridcolor\":\"white\",\"startlinecolor\":\"#2a3f5f\"},\"type\":\"carpet\"}],\"table\":[{\"cells\":{\"fill\":{\"color\":\"#EBF0F8\"},\"line\":{\"color\":\"white\"}},\"header\":{\"fill\":{\"color\":\"#C8D4E3\"},\"line\":{\"color\":\"white\"}},\"type\":\"table\"}],\"barpolar\":[{\"marker\":{\"line\":{\"color\":\"#E5ECF6\",\"width\":0.5},\"pattern\":{\"fillmode\":\"overlay\",\"size\":10,\"solidity\":0.2}},\"type\":\"barpolar\"}],\"pie\":[{\"automargin\":true,\"type\":\"pie\"}]},\"layout\":{\"autotypenumbers\":\"strict\",\"colorway\":[\"#636efa\",\"#EF553B\",\"#00cc96\",\"#ab63fa\",\"#FFA15A\",\"#19d3f3\",\"#FF6692\",\"#B6E880\",\"#FF97FF\",\"#FECB52\"],\"font\":{\"color\":\"#2a3f5f\"},\"hovermode\":\"closest\",\"hoverlabel\":{\"align\":\"left\"},\"paper_bgcolor\":\"white\",\"plot_bgcolor\":\"#E5ECF6\",\"polar\":{\"bgcolor\":\"#E5ECF6\",\"angularaxis\":{\"gridcolor\":\"white\",\"linecolor\":\"white\",\"ticks\":\"\"},\"radialaxis\":{\"gridcolor\":\"white\",\"linecolor\":\"white\",\"ticks\":\"\"}},\"ternary\":{\"bgcolor\":\"#E5ECF6\",\"aaxis\":{\"gridcolor\":\"white\",\"linecolor\":\"white\",\"ticks\":\"\"},\"baxis\":{\"gridcolor\":\"white\",\"linecolor\":\"white\",\"ticks\":\"\"},\"caxis\":{\"gridcolor\":\"white\",\"linecolor\":\"white\",\"ticks\":\"\"}},\"coloraxis\":{\"colorbar\":{\"outlinewidth\":0,\"ticks\":\"\"}},\"colorscale\":{\"sequential\":[[0.0,\"#0d0887\"],[0.1111111111111111,\"#46039f\"],[0.2222222222222222,\"#7201a8\"],[0.3333333333333333,\"#9c179e\"],[0.4444444444444444,\"#bd3786\"],[0.5555555555555556,\"#d8576b\"],[0.6666666666666666,\"#ed7953\"],[0.7777777777777778,\"#fb9f3a\"],[0.8888888888888888,\"#fdca26\"],[1.0,\"#f0f921\"]],\"sequentialminus\":[[0.0,\"#0d0887\"],[0.1111111111111111,\"#46039f\"],[0.2222222222222222,\"#7201a8\"],[0.3333333333333333,\"#9c179e\"],[0.4444444444444444,\"#bd3786\"],[0.5555555555555556,\"#d8576b\"],[0.6666666666666666,\"#ed7953\"],[0.7777777777777778,\"#fb9f3a\"],[0.8888888888888888,\"#fdca26\"],[1.0,\"#f0f921\"]],\"diverging\":[[0,\"#8e0152\"],[0.1,\"#c51b7d\"],[0.2,\"#de77ae\"],[0.3,\"#f1b6da\"],[0.4,\"#fde0ef\"],[0.5,\"#f7f7f7\"],[0.6,\"#e6f5d0\"],[0.7,\"#b8e186\"],[0.8,\"#7fbc41\"],[0.9,\"#4d9221\"],[1,\"#276419\"]]},\"xaxis\":{\"gridcolor\":\"white\",\"linecolor\":\"white\",\"ticks\":\"\",\"title\":{\"standoff\":15},\"zerolinecolor\":\"white\",\"automargin\":true,\"zerolinewidth\":2},\"yaxis\":{\"gridcolor\":\"white\",\"linecolor\":\"white\",\"ticks\":\"\",\"title\":{\"standoff\":15},\"zerolinecolor\":\"white\",\"automargin\":true,\"zerolinewidth\":2},\"scene\":{\"xaxis\":{\"backgroundcolor\":\"#E5ECF6\",\"gridcolor\":\"white\",\"linecolor\":\"white\",\"showbackground\":true,\"ticks\":\"\",\"zerolinecolor\":\"white\",\"gridwidth\":2},\"yaxis\":{\"backgroundcolor\":\"#E5ECF6\",\"gridcolor\":\"white\",\"linecolor\":\"white\",\"showbackground\":true,\"ticks\":\"\",\"zerolinecolor\":\"white\",\"gridwidth\":2},\"zaxis\":{\"backgroundcolor\":\"#E5ECF6\",\"gridcolor\":\"white\",\"linecolor\":\"white\",\"showbackground\":true,\"ticks\":\"\",\"zerolinecolor\":\"white\",\"gridwidth\":2}},\"shapedefaults\":{\"line\":{\"color\":\"#2a3f5f\"}},\"annotationdefaults\":{\"arrowcolor\":\"#2a3f5f\",\"arrowhead\":0,\"arrowwidth\":1},\"geo\":{\"bgcolor\":\"white\",\"landcolor\":\"#E5ECF6\",\"subunitcolor\":\"white\",\"showland\":true,\"showlakes\":true,\"lakecolor\":\"white\"},\"title\":{\"x\":0.05},\"mapbox\":{\"style\":\"light\"}}},\"xaxis\":{\"anchor\":\"y\",\"domain\":[0.0,1.0],\"title\":{\"text\":\"date\"}},\"yaxis\":{\"anchor\":\"x\",\"domain\":[0.0,1.0],\"title\":{\"text\":\"US\"}},\"legend\":{\"tracegroupgap\":0},\"margin\":{\"t\":60}},                        {\"responsive\": true}                    ).then(function(){\n",
              "                            \n",
              "var gd = document.getElementById('2c59fffe-bfc5-4ead-9e1d-e0534589eb7b');\n",
              "var x = new MutationObserver(function (mutations, observer) {{\n",
              "        var display = window.getComputedStyle(gd).display;\n",
              "        if (!display || display === 'none') {{\n",
              "            console.log([gd, 'removed!']);\n",
              "            Plotly.purge(gd);\n",
              "            observer.disconnect();\n",
              "        }}\n",
              "}});\n",
              "\n",
              "// Listen for the removal of the full notebook cells\n",
              "var notebookContainer = gd.closest('#notebook-container');\n",
              "if (notebookContainer) {{\n",
              "    x.observe(notebookContainer, {childList: true});\n",
              "}}\n",
              "\n",
              "// Listen for the clearing of the current output cell\n",
              "var outputEl = gd.closest('.output');\n",
              "if (outputEl) {{\n",
              "    x.observe(outputEl, {childList: true});\n",
              "}}\n",
              "\n",
              "                        })                };                            </script>        </div>\n",
              "</body>\n",
              "</html>"
            ]
          },
          "metadata": {}
        }
      ]
    },
    {
      "cell_type": "markdown",
      "source": [
        "The line chart is an excelent tool to perform trend analysis. As we can see above, the peaks of covid-19 in the US during 2020-21 winter, and the second ramp up by the end of the 2021 summer."
      ],
      "metadata": {
        "id": "4sws4YUrSA_x"
      }
    },
    {
      "cell_type": "markdown",
      "source": [
        "### Bar plots\n",
        "\n",
        "Bar plots are very commonly used in both science and the business world.\n",
        "\n",
        "Bar plots:\n",
        "\n",
        "- Require the x to be discrete values\n",
        "- Require the y to be a single number per x\n",
        "- Are best for showing summary values like averages\n",
        "\n",
        "In other words, while scatterplots show all the datapoints, bar plots only show a summary value of y for each x.\n",
        "\n",
        "Let's make a bar plot using the average, or `mean` of the variables as a summary value.\n",
        "\n",
        "First, let's look at the mean by itself:\n",
        "\n",
        "- `with grades do mean using`\n"
      ],
      "metadata": {
        "id": "ZphBnUH2C89g"
      }
    },
    {
      "cell_type": "code",
      "source": [
        "import pandas as pd\n",
        "grades = pd.read_csv('https://raw.githubusercontent.com/memphis-iis/datawhys-workshop-notebooks-2024/main/datasets/grades.csv')\n",
        "grades.mean()"
      ],
      "metadata": {
        "colab": {
          "base_uri": "https://localhost:8080/"
        },
        "id": "h9tIf0CbPXmU",
        "outputId": "85213b1c-d748-4c90-d510-d552cb8c650c"
      },
      "execution_count": 3,
      "outputs": [
        {
          "output_type": "stream",
          "name": "stderr",
          "text": [
            "<ipython-input-3-09a9f0bc469c>:3: FutureWarning: The default value of numeric_only in DataFrame.mean is deprecated. In a future version, it will default to False. In addition, specifying 'numeric_only=None' is deprecated. Select only valid columns or specify the value of numeric_only to silence this warning.\n",
            "  grades.mean()\n"
          ]
        },
        {
          "output_type": "execute_result",
          "data": {
            "text/plain": [
              "AP1      7.041667\n",
              "AP2      7.000000\n",
              "AP3      7.458333\n",
              "Grade    7.108333\n",
              "dtype: float64"
            ]
          },
          "metadata": {},
          "execution_count": 3
        }
      ]
    },
    {
      "cell_type": "markdown",
      "source": [
        "We can see the mean for each variable, but notice this output is not formated like a dataframe, because there are no column labels.\n",
        "\n",
        "Instead, this is something `pandas` calls a **series**, which is like a single column in a dataframe.\n",
        "The difference here is that the variable names, e.g. `SepalWidth`, are axis labels rather than numeric axis labels we've seen previously.\n",
        "\n",
        "Since `grades.mean()` is a series, it has column names we can use for x and y in our plot.\n",
        "However, `plotly` is smart enough to plot it anyways, like this:\n",
        "\n",
        "- `with px do bar using with grades do mean using`\n",
        "\n",
        "**If you have trouble connecting these blocks, move your mouse slowly as you make the final connection, and try letting go even if you don't hear the click.**"
      ],
      "metadata": {
        "id": "yybTxDvKP1Lp"
      }
    },
    {
      "cell_type": "code",
      "source": [
        "import plotly.express as px\n",
        "px.bar(grades.mean())"
      ],
      "metadata": {
        "colab": {
          "base_uri": "https://localhost:8080/",
          "height": 597
        },
        "id": "m5J5ZqRHP1uD",
        "outputId": "2285ba29-8959-4d04-b191-be062adff13c"
      },
      "execution_count": 6,
      "outputs": [
        {
          "output_type": "stream",
          "name": "stderr",
          "text": [
            "<ipython-input-6-6c86e1f119ef>:2: FutureWarning: The default value of numeric_only in DataFrame.mean is deprecated. In a future version, it will default to False. In addition, specifying 'numeric_only=None' is deprecated. Select only valid columns or specify the value of numeric_only to silence this warning.\n",
            "  px.bar(grades.mean())\n"
          ]
        },
        {
          "output_type": "display_data",
          "data": {
            "text/html": [
              "<html>\n",
              "<head><meta charset=\"utf-8\" /></head>\n",
              "<body>\n",
              "    <div>            <script src=\"https://cdnjs.cloudflare.com/ajax/libs/mathjax/2.7.5/MathJax.js?config=TeX-AMS-MML_SVG\"></script><script type=\"text/javascript\">if (window.MathJax && window.MathJax.Hub && window.MathJax.Hub.Config) {window.MathJax.Hub.Config({SVG: {font: \"STIX-Web\"}});}</script>                <script type=\"text/javascript\">window.PlotlyConfig = {MathJaxConfig: 'local'};</script>\n",
              "        <script charset=\"utf-8\" src=\"https://cdn.plot.ly/plotly-2.24.1.min.js\"></script>                <div id=\"bc6413c8-897a-44a4-8322-13a07afc8350\" class=\"plotly-graph-div\" style=\"height:525px; width:100%;\"></div>            <script type=\"text/javascript\">                                    window.PLOTLYENV=window.PLOTLYENV || {};                                    if (document.getElementById(\"bc6413c8-897a-44a4-8322-13a07afc8350\")) {                    Plotly.newPlot(                        \"bc6413c8-897a-44a4-8322-13a07afc8350\",                        [{\"alignmentgroup\":\"True\",\"hovertemplate\":\"variable=0\\u003cbr\\u003eindex=%{x}\\u003cbr\\u003evalue=%{y}\\u003cextra\\u003e\\u003c\\u002fextra\\u003e\",\"legendgroup\":\"0\",\"marker\":{\"color\":\"#636efa\",\"pattern\":{\"shape\":\"\"}},\"name\":\"0\",\"offsetgroup\":\"0\",\"orientation\":\"v\",\"showlegend\":true,\"textposition\":\"auto\",\"x\":[\"AP1\",\"AP2\",\"AP3\",\"Grade\"],\"xaxis\":\"x\",\"y\":[7.041666666666667,7.0,7.458333333333333,7.108333333333334],\"yaxis\":\"y\",\"type\":\"bar\"}],                        {\"template\":{\"data\":{\"histogram2dcontour\":[{\"type\":\"histogram2dcontour\",\"colorbar\":{\"outlinewidth\":0,\"ticks\":\"\"},\"colorscale\":[[0.0,\"#0d0887\"],[0.1111111111111111,\"#46039f\"],[0.2222222222222222,\"#7201a8\"],[0.3333333333333333,\"#9c179e\"],[0.4444444444444444,\"#bd3786\"],[0.5555555555555556,\"#d8576b\"],[0.6666666666666666,\"#ed7953\"],[0.7777777777777778,\"#fb9f3a\"],[0.8888888888888888,\"#fdca26\"],[1.0,\"#f0f921\"]]}],\"choropleth\":[{\"type\":\"choropleth\",\"colorbar\":{\"outlinewidth\":0,\"ticks\":\"\"}}],\"histogram2d\":[{\"type\":\"histogram2d\",\"colorbar\":{\"outlinewidth\":0,\"ticks\":\"\"},\"colorscale\":[[0.0,\"#0d0887\"],[0.1111111111111111,\"#46039f\"],[0.2222222222222222,\"#7201a8\"],[0.3333333333333333,\"#9c179e\"],[0.4444444444444444,\"#bd3786\"],[0.5555555555555556,\"#d8576b\"],[0.6666666666666666,\"#ed7953\"],[0.7777777777777778,\"#fb9f3a\"],[0.8888888888888888,\"#fdca26\"],[1.0,\"#f0f921\"]]}],\"heatmap\":[{\"type\":\"heatmap\",\"colorbar\":{\"outlinewidth\":0,\"ticks\":\"\"},\"colorscale\":[[0.0,\"#0d0887\"],[0.1111111111111111,\"#46039f\"],[0.2222222222222222,\"#7201a8\"],[0.3333333333333333,\"#9c179e\"],[0.4444444444444444,\"#bd3786\"],[0.5555555555555556,\"#d8576b\"],[0.6666666666666666,\"#ed7953\"],[0.7777777777777778,\"#fb9f3a\"],[0.8888888888888888,\"#fdca26\"],[1.0,\"#f0f921\"]]}],\"heatmapgl\":[{\"type\":\"heatmapgl\",\"colorbar\":{\"outlinewidth\":0,\"ticks\":\"\"},\"colorscale\":[[0.0,\"#0d0887\"],[0.1111111111111111,\"#46039f\"],[0.2222222222222222,\"#7201a8\"],[0.3333333333333333,\"#9c179e\"],[0.4444444444444444,\"#bd3786\"],[0.5555555555555556,\"#d8576b\"],[0.6666666666666666,\"#ed7953\"],[0.7777777777777778,\"#fb9f3a\"],[0.8888888888888888,\"#fdca26\"],[1.0,\"#f0f921\"]]}],\"contourcarpet\":[{\"type\":\"contourcarpet\",\"colorbar\":{\"outlinewidth\":0,\"ticks\":\"\"}}],\"contour\":[{\"type\":\"contour\",\"colorbar\":{\"outlinewidth\":0,\"ticks\":\"\"},\"colorscale\":[[0.0,\"#0d0887\"],[0.1111111111111111,\"#46039f\"],[0.2222222222222222,\"#7201a8\"],[0.3333333333333333,\"#9c179e\"],[0.4444444444444444,\"#bd3786\"],[0.5555555555555556,\"#d8576b\"],[0.6666666666666666,\"#ed7953\"],[0.7777777777777778,\"#fb9f3a\"],[0.8888888888888888,\"#fdca26\"],[1.0,\"#f0f921\"]]}],\"surface\":[{\"type\":\"surface\",\"colorbar\":{\"outlinewidth\":0,\"ticks\":\"\"},\"colorscale\":[[0.0,\"#0d0887\"],[0.1111111111111111,\"#46039f\"],[0.2222222222222222,\"#7201a8\"],[0.3333333333333333,\"#9c179e\"],[0.4444444444444444,\"#bd3786\"],[0.5555555555555556,\"#d8576b\"],[0.6666666666666666,\"#ed7953\"],[0.7777777777777778,\"#fb9f3a\"],[0.8888888888888888,\"#fdca26\"],[1.0,\"#f0f921\"]]}],\"mesh3d\":[{\"type\":\"mesh3d\",\"colorbar\":{\"outlinewidth\":0,\"ticks\":\"\"}}],\"scatter\":[{\"fillpattern\":{\"fillmode\":\"overlay\",\"size\":10,\"solidity\":0.2},\"type\":\"scatter\"}],\"parcoords\":[{\"type\":\"parcoords\",\"line\":{\"colorbar\":{\"outlinewidth\":0,\"ticks\":\"\"}}}],\"scatterpolargl\":[{\"type\":\"scatterpolargl\",\"marker\":{\"colorbar\":{\"outlinewidth\":0,\"ticks\":\"\"}}}],\"bar\":[{\"error_x\":{\"color\":\"#2a3f5f\"},\"error_y\":{\"color\":\"#2a3f5f\"},\"marker\":{\"line\":{\"color\":\"#E5ECF6\",\"width\":0.5},\"pattern\":{\"fillmode\":\"overlay\",\"size\":10,\"solidity\":0.2}},\"type\":\"bar\"}],\"scattergeo\":[{\"type\":\"scattergeo\",\"marker\":{\"colorbar\":{\"outlinewidth\":0,\"ticks\":\"\"}}}],\"scatterpolar\":[{\"type\":\"scatterpolar\",\"marker\":{\"colorbar\":{\"outlinewidth\":0,\"ticks\":\"\"}}}],\"histogram\":[{\"marker\":{\"pattern\":{\"fillmode\":\"overlay\",\"size\":10,\"solidity\":0.2}},\"type\":\"histogram\"}],\"scattergl\":[{\"type\":\"scattergl\",\"marker\":{\"colorbar\":{\"outlinewidth\":0,\"ticks\":\"\"}}}],\"scatter3d\":[{\"type\":\"scatter3d\",\"line\":{\"colorbar\":{\"outlinewidth\":0,\"ticks\":\"\"}},\"marker\":{\"colorbar\":{\"outlinewidth\":0,\"ticks\":\"\"}}}],\"scattermapbox\":[{\"type\":\"scattermapbox\",\"marker\":{\"colorbar\":{\"outlinewidth\":0,\"ticks\":\"\"}}}],\"scatterternary\":[{\"type\":\"scatterternary\",\"marker\":{\"colorbar\":{\"outlinewidth\":0,\"ticks\":\"\"}}}],\"scattercarpet\":[{\"type\":\"scattercarpet\",\"marker\":{\"colorbar\":{\"outlinewidth\":0,\"ticks\":\"\"}}}],\"carpet\":[{\"aaxis\":{\"endlinecolor\":\"#2a3f5f\",\"gridcolor\":\"white\",\"linecolor\":\"white\",\"minorgridcolor\":\"white\",\"startlinecolor\":\"#2a3f5f\"},\"baxis\":{\"endlinecolor\":\"#2a3f5f\",\"gridcolor\":\"white\",\"linecolor\":\"white\",\"minorgridcolor\":\"white\",\"startlinecolor\":\"#2a3f5f\"},\"type\":\"carpet\"}],\"table\":[{\"cells\":{\"fill\":{\"color\":\"#EBF0F8\"},\"line\":{\"color\":\"white\"}},\"header\":{\"fill\":{\"color\":\"#C8D4E3\"},\"line\":{\"color\":\"white\"}},\"type\":\"table\"}],\"barpolar\":[{\"marker\":{\"line\":{\"color\":\"#E5ECF6\",\"width\":0.5},\"pattern\":{\"fillmode\":\"overlay\",\"size\":10,\"solidity\":0.2}},\"type\":\"barpolar\"}],\"pie\":[{\"automargin\":true,\"type\":\"pie\"}]},\"layout\":{\"autotypenumbers\":\"strict\",\"colorway\":[\"#636efa\",\"#EF553B\",\"#00cc96\",\"#ab63fa\",\"#FFA15A\",\"#19d3f3\",\"#FF6692\",\"#B6E880\",\"#FF97FF\",\"#FECB52\"],\"font\":{\"color\":\"#2a3f5f\"},\"hovermode\":\"closest\",\"hoverlabel\":{\"align\":\"left\"},\"paper_bgcolor\":\"white\",\"plot_bgcolor\":\"#E5ECF6\",\"polar\":{\"bgcolor\":\"#E5ECF6\",\"angularaxis\":{\"gridcolor\":\"white\",\"linecolor\":\"white\",\"ticks\":\"\"},\"radialaxis\":{\"gridcolor\":\"white\",\"linecolor\":\"white\",\"ticks\":\"\"}},\"ternary\":{\"bgcolor\":\"#E5ECF6\",\"aaxis\":{\"gridcolor\":\"white\",\"linecolor\":\"white\",\"ticks\":\"\"},\"baxis\":{\"gridcolor\":\"white\",\"linecolor\":\"white\",\"ticks\":\"\"},\"caxis\":{\"gridcolor\":\"white\",\"linecolor\":\"white\",\"ticks\":\"\"}},\"coloraxis\":{\"colorbar\":{\"outlinewidth\":0,\"ticks\":\"\"}},\"colorscale\":{\"sequential\":[[0.0,\"#0d0887\"],[0.1111111111111111,\"#46039f\"],[0.2222222222222222,\"#7201a8\"],[0.3333333333333333,\"#9c179e\"],[0.4444444444444444,\"#bd3786\"],[0.5555555555555556,\"#d8576b\"],[0.6666666666666666,\"#ed7953\"],[0.7777777777777778,\"#fb9f3a\"],[0.8888888888888888,\"#fdca26\"],[1.0,\"#f0f921\"]],\"sequentialminus\":[[0.0,\"#0d0887\"],[0.1111111111111111,\"#46039f\"],[0.2222222222222222,\"#7201a8\"],[0.3333333333333333,\"#9c179e\"],[0.4444444444444444,\"#bd3786\"],[0.5555555555555556,\"#d8576b\"],[0.6666666666666666,\"#ed7953\"],[0.7777777777777778,\"#fb9f3a\"],[0.8888888888888888,\"#fdca26\"],[1.0,\"#f0f921\"]],\"diverging\":[[0,\"#8e0152\"],[0.1,\"#c51b7d\"],[0.2,\"#de77ae\"],[0.3,\"#f1b6da\"],[0.4,\"#fde0ef\"],[0.5,\"#f7f7f7\"],[0.6,\"#e6f5d0\"],[0.7,\"#b8e186\"],[0.8,\"#7fbc41\"],[0.9,\"#4d9221\"],[1,\"#276419\"]]},\"xaxis\":{\"gridcolor\":\"white\",\"linecolor\":\"white\",\"ticks\":\"\",\"title\":{\"standoff\":15},\"zerolinecolor\":\"white\",\"automargin\":true,\"zerolinewidth\":2},\"yaxis\":{\"gridcolor\":\"white\",\"linecolor\":\"white\",\"ticks\":\"\",\"title\":{\"standoff\":15},\"zerolinecolor\":\"white\",\"automargin\":true,\"zerolinewidth\":2},\"scene\":{\"xaxis\":{\"backgroundcolor\":\"#E5ECF6\",\"gridcolor\":\"white\",\"linecolor\":\"white\",\"showbackground\":true,\"ticks\":\"\",\"zerolinecolor\":\"white\",\"gridwidth\":2},\"yaxis\":{\"backgroundcolor\":\"#E5ECF6\",\"gridcolor\":\"white\",\"linecolor\":\"white\",\"showbackground\":true,\"ticks\":\"\",\"zerolinecolor\":\"white\",\"gridwidth\":2},\"zaxis\":{\"backgroundcolor\":\"#E5ECF6\",\"gridcolor\":\"white\",\"linecolor\":\"white\",\"showbackground\":true,\"ticks\":\"\",\"zerolinecolor\":\"white\",\"gridwidth\":2}},\"shapedefaults\":{\"line\":{\"color\":\"#2a3f5f\"}},\"annotationdefaults\":{\"arrowcolor\":\"#2a3f5f\",\"arrowhead\":0,\"arrowwidth\":1},\"geo\":{\"bgcolor\":\"white\",\"landcolor\":\"#E5ECF6\",\"subunitcolor\":\"white\",\"showland\":true,\"showlakes\":true,\"lakecolor\":\"white\"},\"title\":{\"x\":0.05},\"mapbox\":{\"style\":\"light\"}}},\"xaxis\":{\"anchor\":\"y\",\"domain\":[0.0,1.0],\"title\":{\"text\":\"index\"}},\"yaxis\":{\"anchor\":\"x\",\"domain\":[0.0,1.0],\"title\":{\"text\":\"value\"}},\"legend\":{\"title\":{\"text\":\"variable\"},\"tracegroupgap\":0},\"margin\":{\"t\":60},\"barmode\":\"relative\"},                        {\"responsive\": true}                    ).then(function(){\n",
              "                            \n",
              "var gd = document.getElementById('bc6413c8-897a-44a4-8322-13a07afc8350');\n",
              "var x = new MutationObserver(function (mutations, observer) {{\n",
              "        var display = window.getComputedStyle(gd).display;\n",
              "        if (!display || display === 'none') {{\n",
              "            console.log([gd, 'removed!']);\n",
              "            Plotly.purge(gd);\n",
              "            observer.disconnect();\n",
              "        }}\n",
              "}});\n",
              "\n",
              "// Listen for the removal of the full notebook cells\n",
              "var notebookContainer = gd.closest('#notebook-container');\n",
              "if (notebookContainer) {{\n",
              "    x.observe(notebookContainer, {childList: true});\n",
              "}}\n",
              "\n",
              "// Listen for the clearing of the current output cell\n",
              "var outputEl = gd.closest('.output');\n",
              "if (outputEl) {{\n",
              "    x.observe(outputEl, {childList: true});\n",
              "}}\n",
              "\n",
              "                        })                };                            </script>        </div>\n",
              "</body>\n",
              "</html>"
            ]
          },
          "metadata": {}
        }
      ]
    },
    {
      "cell_type": "markdown",
      "source": [
        "In case you want to compare individual columns throughout different rows, you can have the numerical column on the Y axis, and the column that identifies each individual on the X axis.\n",
        "\n",
        "On our case, we want to compare each `Student` final numerical `Grade` side by side in a bar chart, as follow:\n",
        "\n",
        "![bar chart blocks](https://pbs.twimg.com/media/GDA6C8tWEAAmEBz?format=png&name=360x360)\n",
        "\n",
        "Which generates the following code:"
      ],
      "metadata": {
        "id": "nJEcwhsEcgPY"
      }
    },
    {
      "cell_type": "code",
      "source": [
        "import plotly.express as px\n",
        "import pandas as pd\n",
        "df = pd.read_csv('https://raw.githubusercontent.com/lcbjrrr/data/main/grades%20-%20okk.csv')\n",
        "(px.bar(df,'Student','Grade'))\n",
        "\n",
        "#<xml xmlns=\"https://developers.google.com/blockly/xml\">"
      ],
      "metadata": {
        "colab": {
          "base_uri": "https://localhost:8080/",
          "height": 542
        },
        "id": "5vCYGJMidlPb",
        "outputId": "379f689a-5b11-4935-ad4c-7e8f8a533727"
      },
      "execution_count": 8,
      "outputs": [
        {
          "output_type": "display_data",
          "data": {
            "text/html": [
              "<html>\n",
              "<head><meta charset=\"utf-8\" /></head>\n",
              "<body>\n",
              "    <div>            <script src=\"https://cdnjs.cloudflare.com/ajax/libs/mathjax/2.7.5/MathJax.js?config=TeX-AMS-MML_SVG\"></script><script type=\"text/javascript\">if (window.MathJax && window.MathJax.Hub && window.MathJax.Hub.Config) {window.MathJax.Hub.Config({SVG: {font: \"STIX-Web\"}});}</script>                <script type=\"text/javascript\">window.PlotlyConfig = {MathJaxConfig: 'local'};</script>\n",
              "        <script charset=\"utf-8\" src=\"https://cdn.plot.ly/plotly-2.24.1.min.js\"></script>                <div id=\"9b39ced4-ecfc-41a9-8c22-2485783b2750\" class=\"plotly-graph-div\" style=\"height:525px; width:100%;\"></div>            <script type=\"text/javascript\">                                    window.PLOTLYENV=window.PLOTLYENV || {};                                    if (document.getElementById(\"9b39ced4-ecfc-41a9-8c22-2485783b2750\")) {                    Plotly.newPlot(                        \"9b39ced4-ecfc-41a9-8c22-2485783b2750\",                        [{\"alignmentgroup\":\"True\",\"hovertemplate\":\"Student=%{x}\\u003cbr\\u003eGrade=%{y}\\u003cextra\\u003e\\u003c\\u002fextra\\u003e\",\"legendgroup\":\"\",\"marker\":{\"color\":\"#636efa\",\"pattern\":{\"shape\":\"\"}},\"name\":\"\",\"offsetgroup\":\"\",\"orientation\":\"v\",\"showlegend\":false,\"textposition\":\"auto\",\"x\":[\"Jo\\u00e3o\",\"Maria\",\"Jos\\u00e9\",\"Pedro\",\"Paulo\",\"Esther\",\"Gabriel\",\"Rafael\",\"Davi\",\"Silvio\",\"Sofia\",\"Raquel\"],\"xaxis\":\"x\",\"y\":[8.6,6.0,3.6,8.6,8.1,5.4,7.2,8.9,7.8,9.7,7.2,4.2],\"yaxis\":\"y\",\"type\":\"bar\"}],                        {\"template\":{\"data\":{\"histogram2dcontour\":[{\"type\":\"histogram2dcontour\",\"colorbar\":{\"outlinewidth\":0,\"ticks\":\"\"},\"colorscale\":[[0.0,\"#0d0887\"],[0.1111111111111111,\"#46039f\"],[0.2222222222222222,\"#7201a8\"],[0.3333333333333333,\"#9c179e\"],[0.4444444444444444,\"#bd3786\"],[0.5555555555555556,\"#d8576b\"],[0.6666666666666666,\"#ed7953\"],[0.7777777777777778,\"#fb9f3a\"],[0.8888888888888888,\"#fdca26\"],[1.0,\"#f0f921\"]]}],\"choropleth\":[{\"type\":\"choropleth\",\"colorbar\":{\"outlinewidth\":0,\"ticks\":\"\"}}],\"histogram2d\":[{\"type\":\"histogram2d\",\"colorbar\":{\"outlinewidth\":0,\"ticks\":\"\"},\"colorscale\":[[0.0,\"#0d0887\"],[0.1111111111111111,\"#46039f\"],[0.2222222222222222,\"#7201a8\"],[0.3333333333333333,\"#9c179e\"],[0.4444444444444444,\"#bd3786\"],[0.5555555555555556,\"#d8576b\"],[0.6666666666666666,\"#ed7953\"],[0.7777777777777778,\"#fb9f3a\"],[0.8888888888888888,\"#fdca26\"],[1.0,\"#f0f921\"]]}],\"heatmap\":[{\"type\":\"heatmap\",\"colorbar\":{\"outlinewidth\":0,\"ticks\":\"\"},\"colorscale\":[[0.0,\"#0d0887\"],[0.1111111111111111,\"#46039f\"],[0.2222222222222222,\"#7201a8\"],[0.3333333333333333,\"#9c179e\"],[0.4444444444444444,\"#bd3786\"],[0.5555555555555556,\"#d8576b\"],[0.6666666666666666,\"#ed7953\"],[0.7777777777777778,\"#fb9f3a\"],[0.8888888888888888,\"#fdca26\"],[1.0,\"#f0f921\"]]}],\"heatmapgl\":[{\"type\":\"heatmapgl\",\"colorbar\":{\"outlinewidth\":0,\"ticks\":\"\"},\"colorscale\":[[0.0,\"#0d0887\"],[0.1111111111111111,\"#46039f\"],[0.2222222222222222,\"#7201a8\"],[0.3333333333333333,\"#9c179e\"],[0.4444444444444444,\"#bd3786\"],[0.5555555555555556,\"#d8576b\"],[0.6666666666666666,\"#ed7953\"],[0.7777777777777778,\"#fb9f3a\"],[0.8888888888888888,\"#fdca26\"],[1.0,\"#f0f921\"]]}],\"contourcarpet\":[{\"type\":\"contourcarpet\",\"colorbar\":{\"outlinewidth\":0,\"ticks\":\"\"}}],\"contour\":[{\"type\":\"contour\",\"colorbar\":{\"outlinewidth\":0,\"ticks\":\"\"},\"colorscale\":[[0.0,\"#0d0887\"],[0.1111111111111111,\"#46039f\"],[0.2222222222222222,\"#7201a8\"],[0.3333333333333333,\"#9c179e\"],[0.4444444444444444,\"#bd3786\"],[0.5555555555555556,\"#d8576b\"],[0.6666666666666666,\"#ed7953\"],[0.7777777777777778,\"#fb9f3a\"],[0.8888888888888888,\"#fdca26\"],[1.0,\"#f0f921\"]]}],\"surface\":[{\"type\":\"surface\",\"colorbar\":{\"outlinewidth\":0,\"ticks\":\"\"},\"colorscale\":[[0.0,\"#0d0887\"],[0.1111111111111111,\"#46039f\"],[0.2222222222222222,\"#7201a8\"],[0.3333333333333333,\"#9c179e\"],[0.4444444444444444,\"#bd3786\"],[0.5555555555555556,\"#d8576b\"],[0.6666666666666666,\"#ed7953\"],[0.7777777777777778,\"#fb9f3a\"],[0.8888888888888888,\"#fdca26\"],[1.0,\"#f0f921\"]]}],\"mesh3d\":[{\"type\":\"mesh3d\",\"colorbar\":{\"outlinewidth\":0,\"ticks\":\"\"}}],\"scatter\":[{\"fillpattern\":{\"fillmode\":\"overlay\",\"size\":10,\"solidity\":0.2},\"type\":\"scatter\"}],\"parcoords\":[{\"type\":\"parcoords\",\"line\":{\"colorbar\":{\"outlinewidth\":0,\"ticks\":\"\"}}}],\"scatterpolargl\":[{\"type\":\"scatterpolargl\",\"marker\":{\"colorbar\":{\"outlinewidth\":0,\"ticks\":\"\"}}}],\"bar\":[{\"error_x\":{\"color\":\"#2a3f5f\"},\"error_y\":{\"color\":\"#2a3f5f\"},\"marker\":{\"line\":{\"color\":\"#E5ECF6\",\"width\":0.5},\"pattern\":{\"fillmode\":\"overlay\",\"size\":10,\"solidity\":0.2}},\"type\":\"bar\"}],\"scattergeo\":[{\"type\":\"scattergeo\",\"marker\":{\"colorbar\":{\"outlinewidth\":0,\"ticks\":\"\"}}}],\"scatterpolar\":[{\"type\":\"scatterpolar\",\"marker\":{\"colorbar\":{\"outlinewidth\":0,\"ticks\":\"\"}}}],\"histogram\":[{\"marker\":{\"pattern\":{\"fillmode\":\"overlay\",\"size\":10,\"solidity\":0.2}},\"type\":\"histogram\"}],\"scattergl\":[{\"type\":\"scattergl\",\"marker\":{\"colorbar\":{\"outlinewidth\":0,\"ticks\":\"\"}}}],\"scatter3d\":[{\"type\":\"scatter3d\",\"line\":{\"colorbar\":{\"outlinewidth\":0,\"ticks\":\"\"}},\"marker\":{\"colorbar\":{\"outlinewidth\":0,\"ticks\":\"\"}}}],\"scattermapbox\":[{\"type\":\"scattermapbox\",\"marker\":{\"colorbar\":{\"outlinewidth\":0,\"ticks\":\"\"}}}],\"scatterternary\":[{\"type\":\"scatterternary\",\"marker\":{\"colorbar\":{\"outlinewidth\":0,\"ticks\":\"\"}}}],\"scattercarpet\":[{\"type\":\"scattercarpet\",\"marker\":{\"colorbar\":{\"outlinewidth\":0,\"ticks\":\"\"}}}],\"carpet\":[{\"aaxis\":{\"endlinecolor\":\"#2a3f5f\",\"gridcolor\":\"white\",\"linecolor\":\"white\",\"minorgridcolor\":\"white\",\"startlinecolor\":\"#2a3f5f\"},\"baxis\":{\"endlinecolor\":\"#2a3f5f\",\"gridcolor\":\"white\",\"linecolor\":\"white\",\"minorgridcolor\":\"white\",\"startlinecolor\":\"#2a3f5f\"},\"type\":\"carpet\"}],\"table\":[{\"cells\":{\"fill\":{\"color\":\"#EBF0F8\"},\"line\":{\"color\":\"white\"}},\"header\":{\"fill\":{\"color\":\"#C8D4E3\"},\"line\":{\"color\":\"white\"}},\"type\":\"table\"}],\"barpolar\":[{\"marker\":{\"line\":{\"color\":\"#E5ECF6\",\"width\":0.5},\"pattern\":{\"fillmode\":\"overlay\",\"size\":10,\"solidity\":0.2}},\"type\":\"barpolar\"}],\"pie\":[{\"automargin\":true,\"type\":\"pie\"}]},\"layout\":{\"autotypenumbers\":\"strict\",\"colorway\":[\"#636efa\",\"#EF553B\",\"#00cc96\",\"#ab63fa\",\"#FFA15A\",\"#19d3f3\",\"#FF6692\",\"#B6E880\",\"#FF97FF\",\"#FECB52\"],\"font\":{\"color\":\"#2a3f5f\"},\"hovermode\":\"closest\",\"hoverlabel\":{\"align\":\"left\"},\"paper_bgcolor\":\"white\",\"plot_bgcolor\":\"#E5ECF6\",\"polar\":{\"bgcolor\":\"#E5ECF6\",\"angularaxis\":{\"gridcolor\":\"white\",\"linecolor\":\"white\",\"ticks\":\"\"},\"radialaxis\":{\"gridcolor\":\"white\",\"linecolor\":\"white\",\"ticks\":\"\"}},\"ternary\":{\"bgcolor\":\"#E5ECF6\",\"aaxis\":{\"gridcolor\":\"white\",\"linecolor\":\"white\",\"ticks\":\"\"},\"baxis\":{\"gridcolor\":\"white\",\"linecolor\":\"white\",\"ticks\":\"\"},\"caxis\":{\"gridcolor\":\"white\",\"linecolor\":\"white\",\"ticks\":\"\"}},\"coloraxis\":{\"colorbar\":{\"outlinewidth\":0,\"ticks\":\"\"}},\"colorscale\":{\"sequential\":[[0.0,\"#0d0887\"],[0.1111111111111111,\"#46039f\"],[0.2222222222222222,\"#7201a8\"],[0.3333333333333333,\"#9c179e\"],[0.4444444444444444,\"#bd3786\"],[0.5555555555555556,\"#d8576b\"],[0.6666666666666666,\"#ed7953\"],[0.7777777777777778,\"#fb9f3a\"],[0.8888888888888888,\"#fdca26\"],[1.0,\"#f0f921\"]],\"sequentialminus\":[[0.0,\"#0d0887\"],[0.1111111111111111,\"#46039f\"],[0.2222222222222222,\"#7201a8\"],[0.3333333333333333,\"#9c179e\"],[0.4444444444444444,\"#bd3786\"],[0.5555555555555556,\"#d8576b\"],[0.6666666666666666,\"#ed7953\"],[0.7777777777777778,\"#fb9f3a\"],[0.8888888888888888,\"#fdca26\"],[1.0,\"#f0f921\"]],\"diverging\":[[0,\"#8e0152\"],[0.1,\"#c51b7d\"],[0.2,\"#de77ae\"],[0.3,\"#f1b6da\"],[0.4,\"#fde0ef\"],[0.5,\"#f7f7f7\"],[0.6,\"#e6f5d0\"],[0.7,\"#b8e186\"],[0.8,\"#7fbc41\"],[0.9,\"#4d9221\"],[1,\"#276419\"]]},\"xaxis\":{\"gridcolor\":\"white\",\"linecolor\":\"white\",\"ticks\":\"\",\"title\":{\"standoff\":15},\"zerolinecolor\":\"white\",\"automargin\":true,\"zerolinewidth\":2},\"yaxis\":{\"gridcolor\":\"white\",\"linecolor\":\"white\",\"ticks\":\"\",\"title\":{\"standoff\":15},\"zerolinecolor\":\"white\",\"automargin\":true,\"zerolinewidth\":2},\"scene\":{\"xaxis\":{\"backgroundcolor\":\"#E5ECF6\",\"gridcolor\":\"white\",\"linecolor\":\"white\",\"showbackground\":true,\"ticks\":\"\",\"zerolinecolor\":\"white\",\"gridwidth\":2},\"yaxis\":{\"backgroundcolor\":\"#E5ECF6\",\"gridcolor\":\"white\",\"linecolor\":\"white\",\"showbackground\":true,\"ticks\":\"\",\"zerolinecolor\":\"white\",\"gridwidth\":2},\"zaxis\":{\"backgroundcolor\":\"#E5ECF6\",\"gridcolor\":\"white\",\"linecolor\":\"white\",\"showbackground\":true,\"ticks\":\"\",\"zerolinecolor\":\"white\",\"gridwidth\":2}},\"shapedefaults\":{\"line\":{\"color\":\"#2a3f5f\"}},\"annotationdefaults\":{\"arrowcolor\":\"#2a3f5f\",\"arrowhead\":0,\"arrowwidth\":1},\"geo\":{\"bgcolor\":\"white\",\"landcolor\":\"#E5ECF6\",\"subunitcolor\":\"white\",\"showland\":true,\"showlakes\":true,\"lakecolor\":\"white\"},\"title\":{\"x\":0.05},\"mapbox\":{\"style\":\"light\"}}},\"xaxis\":{\"anchor\":\"y\",\"domain\":[0.0,1.0],\"title\":{\"text\":\"Student\"}},\"yaxis\":{\"anchor\":\"x\",\"domain\":[0.0,1.0],\"title\":{\"text\":\"Grade\"}},\"legend\":{\"tracegroupgap\":0},\"margin\":{\"t\":60},\"barmode\":\"relative\"},                        {\"responsive\": true}                    ).then(function(){\n",
              "                            \n",
              "var gd = document.getElementById('9b39ced4-ecfc-41a9-8c22-2485783b2750');\n",
              "var x = new MutationObserver(function (mutations, observer) {{\n",
              "        var display = window.getComputedStyle(gd).display;\n",
              "        if (!display || display === 'none') {{\n",
              "            console.log([gd, 'removed!']);\n",
              "            Plotly.purge(gd);\n",
              "            observer.disconnect();\n",
              "        }}\n",
              "}});\n",
              "\n",
              "// Listen for the removal of the full notebook cells\n",
              "var notebookContainer = gd.closest('#notebook-container');\n",
              "if (notebookContainer) {{\n",
              "    x.observe(notebookContainer, {childList: true});\n",
              "}}\n",
              "\n",
              "// Listen for the clearing of the current output cell\n",
              "var outputEl = gd.closest('.output');\n",
              "if (outputEl) {{\n",
              "    x.observe(outputEl, {childList: true});\n",
              "}}\n",
              "\n",
              "                        })                };                            </script>        </div>\n",
              "</body>\n",
              "</html>"
            ]
          },
          "metadata": {}
        }
      ]
    },
    {
      "cell_type": "markdown",
      "source": [
        "This kind of graph, a bar chart, is an excelent option to compare values between diferent entities or categories. On our example above it is possible to analise the diffenrent grades between each student."
      ],
      "metadata": {
        "id": "kNGEpgbHe_y5"
      }
    },
    {
      "cell_type": "markdown",
      "source": [
        "It is also possible to summarize data, in case you have a significant number of rows. In that situation, it is possible to aggregate data by a categorical column, in our case `Course`. Then apply apply a mathmatical function, in our case, `mean` on a numerical column, `Grade`. As seen on the blocks bellow\n",
        "\n",
        "![aggregated bar chart](https://pbs.twimg.com/media/GDA7juKWAAAJIP0?format=png&name=small)\n",
        "\n",
        "This will generate the following code, used to compare summarized information. In our case, the average grade between different courses.\n"
      ],
      "metadata": {
        "id": "pCCgcBVbdn5A"
      }
    },
    {
      "cell_type": "code",
      "source": [
        "import plotly.express as px\n",
        "import pandas as pd\n",
        "df = pd.read_csv('https://raw.githubusercontent.com/lcbjrrr/data/main/grades%20-%20okk.csv')\n",
        "pivot = df.groupby('Course')\n",
        "agg = pivot.count()\n",
        "print(agg.Grade)\n",
        "(px.bar(agg.index,agg.Grade))\n",
        "\n",
        "#<xml xmlns=\"https://developers.google.com/blockly/"
      ],
      "metadata": {
        "colab": {
          "base_uri": "https://localhost:8080/",
          "height": 629
        },
        "id": "SychXxvxfloj",
        "outputId": "e2cb6440-2d71-489e-9429-66eb05d9c85f"
      },
      "execution_count": 9,
      "outputs": [
        {
          "output_type": "stream",
          "name": "stdout",
          "text": [
            "Course\n",
            "ADM    5\n",
            "ECO    2\n",
            "LAW    5\n",
            "Name: Grade, dtype: int64\n"
          ]
        },
        {
          "output_type": "display_data",
          "data": {
            "text/html": [
              "<html>\n",
              "<head><meta charset=\"utf-8\" /></head>\n",
              "<body>\n",
              "    <div>            <script src=\"https://cdnjs.cloudflare.com/ajax/libs/mathjax/2.7.5/MathJax.js?config=TeX-AMS-MML_SVG\"></script><script type=\"text/javascript\">if (window.MathJax && window.MathJax.Hub && window.MathJax.Hub.Config) {window.MathJax.Hub.Config({SVG: {font: \"STIX-Web\"}});}</script>                <script type=\"text/javascript\">window.PlotlyConfig = {MathJaxConfig: 'local'};</script>\n",
              "        <script charset=\"utf-8\" src=\"https://cdn.plot.ly/plotly-2.24.1.min.js\"></script>                <div id=\"77e63349-bb3c-4412-b57a-e54f582b7797\" class=\"plotly-graph-div\" style=\"height:525px; width:100%;\"></div>            <script type=\"text/javascript\">                                    window.PLOTLYENV=window.PLOTLYENV || {};                                    if (document.getElementById(\"77e63349-bb3c-4412-b57a-e54f582b7797\")) {                    Plotly.newPlot(                        \"77e63349-bb3c-4412-b57a-e54f582b7797\",                        [{\"alignmentgroup\":\"True\",\"hovertemplate\":\"x=%{x}\\u003cbr\\u003eindex=%{y}\\u003cextra\\u003e\\u003c\\u002fextra\\u003e\",\"legendgroup\":\"\",\"marker\":{\"color\":\"#636efa\",\"pattern\":{\"shape\":\"\"}},\"name\":\"\",\"offsetgroup\":\"\",\"orientation\":\"h\",\"showlegend\":false,\"textposition\":\"auto\",\"x\":[5,2,5],\"xaxis\":\"x\",\"y\":[0,1,2],\"yaxis\":\"y\",\"type\":\"bar\"}],                        {\"template\":{\"data\":{\"histogram2dcontour\":[{\"type\":\"histogram2dcontour\",\"colorbar\":{\"outlinewidth\":0,\"ticks\":\"\"},\"colorscale\":[[0.0,\"#0d0887\"],[0.1111111111111111,\"#46039f\"],[0.2222222222222222,\"#7201a8\"],[0.3333333333333333,\"#9c179e\"],[0.4444444444444444,\"#bd3786\"],[0.5555555555555556,\"#d8576b\"],[0.6666666666666666,\"#ed7953\"],[0.7777777777777778,\"#fb9f3a\"],[0.8888888888888888,\"#fdca26\"],[1.0,\"#f0f921\"]]}],\"choropleth\":[{\"type\":\"choropleth\",\"colorbar\":{\"outlinewidth\":0,\"ticks\":\"\"}}],\"histogram2d\":[{\"type\":\"histogram2d\",\"colorbar\":{\"outlinewidth\":0,\"ticks\":\"\"},\"colorscale\":[[0.0,\"#0d0887\"],[0.1111111111111111,\"#46039f\"],[0.2222222222222222,\"#7201a8\"],[0.3333333333333333,\"#9c179e\"],[0.4444444444444444,\"#bd3786\"],[0.5555555555555556,\"#d8576b\"],[0.6666666666666666,\"#ed7953\"],[0.7777777777777778,\"#fb9f3a\"],[0.8888888888888888,\"#fdca26\"],[1.0,\"#f0f921\"]]}],\"heatmap\":[{\"type\":\"heatmap\",\"colorbar\":{\"outlinewidth\":0,\"ticks\":\"\"},\"colorscale\":[[0.0,\"#0d0887\"],[0.1111111111111111,\"#46039f\"],[0.2222222222222222,\"#7201a8\"],[0.3333333333333333,\"#9c179e\"],[0.4444444444444444,\"#bd3786\"],[0.5555555555555556,\"#d8576b\"],[0.6666666666666666,\"#ed7953\"],[0.7777777777777778,\"#fb9f3a\"],[0.8888888888888888,\"#fdca26\"],[1.0,\"#f0f921\"]]}],\"heatmapgl\":[{\"type\":\"heatmapgl\",\"colorbar\":{\"outlinewidth\":0,\"ticks\":\"\"},\"colorscale\":[[0.0,\"#0d0887\"],[0.1111111111111111,\"#46039f\"],[0.2222222222222222,\"#7201a8\"],[0.3333333333333333,\"#9c179e\"],[0.4444444444444444,\"#bd3786\"],[0.5555555555555556,\"#d8576b\"],[0.6666666666666666,\"#ed7953\"],[0.7777777777777778,\"#fb9f3a\"],[0.8888888888888888,\"#fdca26\"],[1.0,\"#f0f921\"]]}],\"contourcarpet\":[{\"type\":\"contourcarpet\",\"colorbar\":{\"outlinewidth\":0,\"ticks\":\"\"}}],\"contour\":[{\"type\":\"contour\",\"colorbar\":{\"outlinewidth\":0,\"ticks\":\"\"},\"colorscale\":[[0.0,\"#0d0887\"],[0.1111111111111111,\"#46039f\"],[0.2222222222222222,\"#7201a8\"],[0.3333333333333333,\"#9c179e\"],[0.4444444444444444,\"#bd3786\"],[0.5555555555555556,\"#d8576b\"],[0.6666666666666666,\"#ed7953\"],[0.7777777777777778,\"#fb9f3a\"],[0.8888888888888888,\"#fdca26\"],[1.0,\"#f0f921\"]]}],\"surface\":[{\"type\":\"surface\",\"colorbar\":{\"outlinewidth\":0,\"ticks\":\"\"},\"colorscale\":[[0.0,\"#0d0887\"],[0.1111111111111111,\"#46039f\"],[0.2222222222222222,\"#7201a8\"],[0.3333333333333333,\"#9c179e\"],[0.4444444444444444,\"#bd3786\"],[0.5555555555555556,\"#d8576b\"],[0.6666666666666666,\"#ed7953\"],[0.7777777777777778,\"#fb9f3a\"],[0.8888888888888888,\"#fdca26\"],[1.0,\"#f0f921\"]]}],\"mesh3d\":[{\"type\":\"mesh3d\",\"colorbar\":{\"outlinewidth\":0,\"ticks\":\"\"}}],\"scatter\":[{\"fillpattern\":{\"fillmode\":\"overlay\",\"size\":10,\"solidity\":0.2},\"type\":\"scatter\"}],\"parcoords\":[{\"type\":\"parcoords\",\"line\":{\"colorbar\":{\"outlinewidth\":0,\"ticks\":\"\"}}}],\"scatterpolargl\":[{\"type\":\"scatterpolargl\",\"marker\":{\"colorbar\":{\"outlinewidth\":0,\"ticks\":\"\"}}}],\"bar\":[{\"error_x\":{\"color\":\"#2a3f5f\"},\"error_y\":{\"color\":\"#2a3f5f\"},\"marker\":{\"line\":{\"color\":\"#E5ECF6\",\"width\":0.5},\"pattern\":{\"fillmode\":\"overlay\",\"size\":10,\"solidity\":0.2}},\"type\":\"bar\"}],\"scattergeo\":[{\"type\":\"scattergeo\",\"marker\":{\"colorbar\":{\"outlinewidth\":0,\"ticks\":\"\"}}}],\"scatterpolar\":[{\"type\":\"scatterpolar\",\"marker\":{\"colorbar\":{\"outlinewidth\":0,\"ticks\":\"\"}}}],\"histogram\":[{\"marker\":{\"pattern\":{\"fillmode\":\"overlay\",\"size\":10,\"solidity\":0.2}},\"type\":\"histogram\"}],\"scattergl\":[{\"type\":\"scattergl\",\"marker\":{\"colorbar\":{\"outlinewidth\":0,\"ticks\":\"\"}}}],\"scatter3d\":[{\"type\":\"scatter3d\",\"line\":{\"colorbar\":{\"outlinewidth\":0,\"ticks\":\"\"}},\"marker\":{\"colorbar\":{\"outlinewidth\":0,\"ticks\":\"\"}}}],\"scattermapbox\":[{\"type\":\"scattermapbox\",\"marker\":{\"colorbar\":{\"outlinewidth\":0,\"ticks\":\"\"}}}],\"scatterternary\":[{\"type\":\"scatterternary\",\"marker\":{\"colorbar\":{\"outlinewidth\":0,\"ticks\":\"\"}}}],\"scattercarpet\":[{\"type\":\"scattercarpet\",\"marker\":{\"colorbar\":{\"outlinewidth\":0,\"ticks\":\"\"}}}],\"carpet\":[{\"aaxis\":{\"endlinecolor\":\"#2a3f5f\",\"gridcolor\":\"white\",\"linecolor\":\"white\",\"minorgridcolor\":\"white\",\"startlinecolor\":\"#2a3f5f\"},\"baxis\":{\"endlinecolor\":\"#2a3f5f\",\"gridcolor\":\"white\",\"linecolor\":\"white\",\"minorgridcolor\":\"white\",\"startlinecolor\":\"#2a3f5f\"},\"type\":\"carpet\"}],\"table\":[{\"cells\":{\"fill\":{\"color\":\"#EBF0F8\"},\"line\":{\"color\":\"white\"}},\"header\":{\"fill\":{\"color\":\"#C8D4E3\"},\"line\":{\"color\":\"white\"}},\"type\":\"table\"}],\"barpolar\":[{\"marker\":{\"line\":{\"color\":\"#E5ECF6\",\"width\":0.5},\"pattern\":{\"fillmode\":\"overlay\",\"size\":10,\"solidity\":0.2}},\"type\":\"barpolar\"}],\"pie\":[{\"automargin\":true,\"type\":\"pie\"}]},\"layout\":{\"autotypenumbers\":\"strict\",\"colorway\":[\"#636efa\",\"#EF553B\",\"#00cc96\",\"#ab63fa\",\"#FFA15A\",\"#19d3f3\",\"#FF6692\",\"#B6E880\",\"#FF97FF\",\"#FECB52\"],\"font\":{\"color\":\"#2a3f5f\"},\"hovermode\":\"closest\",\"hoverlabel\":{\"align\":\"left\"},\"paper_bgcolor\":\"white\",\"plot_bgcolor\":\"#E5ECF6\",\"polar\":{\"bgcolor\":\"#E5ECF6\",\"angularaxis\":{\"gridcolor\":\"white\",\"linecolor\":\"white\",\"ticks\":\"\"},\"radialaxis\":{\"gridcolor\":\"white\",\"linecolor\":\"white\",\"ticks\":\"\"}},\"ternary\":{\"bgcolor\":\"#E5ECF6\",\"aaxis\":{\"gridcolor\":\"white\",\"linecolor\":\"white\",\"ticks\":\"\"},\"baxis\":{\"gridcolor\":\"white\",\"linecolor\":\"white\",\"ticks\":\"\"},\"caxis\":{\"gridcolor\":\"white\",\"linecolor\":\"white\",\"ticks\":\"\"}},\"coloraxis\":{\"colorbar\":{\"outlinewidth\":0,\"ticks\":\"\"}},\"colorscale\":{\"sequential\":[[0.0,\"#0d0887\"],[0.1111111111111111,\"#46039f\"],[0.2222222222222222,\"#7201a8\"],[0.3333333333333333,\"#9c179e\"],[0.4444444444444444,\"#bd3786\"],[0.5555555555555556,\"#d8576b\"],[0.6666666666666666,\"#ed7953\"],[0.7777777777777778,\"#fb9f3a\"],[0.8888888888888888,\"#fdca26\"],[1.0,\"#f0f921\"]],\"sequentialminus\":[[0.0,\"#0d0887\"],[0.1111111111111111,\"#46039f\"],[0.2222222222222222,\"#7201a8\"],[0.3333333333333333,\"#9c179e\"],[0.4444444444444444,\"#bd3786\"],[0.5555555555555556,\"#d8576b\"],[0.6666666666666666,\"#ed7953\"],[0.7777777777777778,\"#fb9f3a\"],[0.8888888888888888,\"#fdca26\"],[1.0,\"#f0f921\"]],\"diverging\":[[0,\"#8e0152\"],[0.1,\"#c51b7d\"],[0.2,\"#de77ae\"],[0.3,\"#f1b6da\"],[0.4,\"#fde0ef\"],[0.5,\"#f7f7f7\"],[0.6,\"#e6f5d0\"],[0.7,\"#b8e186\"],[0.8,\"#7fbc41\"],[0.9,\"#4d9221\"],[1,\"#276419\"]]},\"xaxis\":{\"gridcolor\":\"white\",\"linecolor\":\"white\",\"ticks\":\"\",\"title\":{\"standoff\":15},\"zerolinecolor\":\"white\",\"automargin\":true,\"zerolinewidth\":2},\"yaxis\":{\"gridcolor\":\"white\",\"linecolor\":\"white\",\"ticks\":\"\",\"title\":{\"standoff\":15},\"zerolinecolor\":\"white\",\"automargin\":true,\"zerolinewidth\":2},\"scene\":{\"xaxis\":{\"backgroundcolor\":\"#E5ECF6\",\"gridcolor\":\"white\",\"linecolor\":\"white\",\"showbackground\":true,\"ticks\":\"\",\"zerolinecolor\":\"white\",\"gridwidth\":2},\"yaxis\":{\"backgroundcolor\":\"#E5ECF6\",\"gridcolor\":\"white\",\"linecolor\":\"white\",\"showbackground\":true,\"ticks\":\"\",\"zerolinecolor\":\"white\",\"gridwidth\":2},\"zaxis\":{\"backgroundcolor\":\"#E5ECF6\",\"gridcolor\":\"white\",\"linecolor\":\"white\",\"showbackground\":true,\"ticks\":\"\",\"zerolinecolor\":\"white\",\"gridwidth\":2}},\"shapedefaults\":{\"line\":{\"color\":\"#2a3f5f\"}},\"annotationdefaults\":{\"arrowcolor\":\"#2a3f5f\",\"arrowhead\":0,\"arrowwidth\":1},\"geo\":{\"bgcolor\":\"white\",\"landcolor\":\"#E5ECF6\",\"subunitcolor\":\"white\",\"showland\":true,\"showlakes\":true,\"lakecolor\":\"white\"},\"title\":{\"x\":0.05},\"mapbox\":{\"style\":\"light\"}}},\"xaxis\":{\"anchor\":\"y\",\"domain\":[0.0,1.0],\"title\":{\"text\":\"x\"}},\"yaxis\":{\"anchor\":\"x\",\"domain\":[0.0,1.0],\"title\":{\"text\":\"index\"}},\"legend\":{\"tracegroupgap\":0},\"margin\":{\"t\":60},\"barmode\":\"relative\"},                        {\"responsive\": true}                    ).then(function(){\n",
              "                            \n",
              "var gd = document.getElementById('77e63349-bb3c-4412-b57a-e54f582b7797');\n",
              "var x = new MutationObserver(function (mutations, observer) {{\n",
              "        var display = window.getComputedStyle(gd).display;\n",
              "        if (!display || display === 'none') {{\n",
              "            console.log([gd, 'removed!']);\n",
              "            Plotly.purge(gd);\n",
              "            observer.disconnect();\n",
              "        }}\n",
              "}});\n",
              "\n",
              "// Listen for the removal of the full notebook cells\n",
              "var notebookContainer = gd.closest('#notebook-container');\n",
              "if (notebookContainer) {{\n",
              "    x.observe(notebookContainer, {childList: true});\n",
              "}}\n",
              "\n",
              "// Listen for the clearing of the current output cell\n",
              "var outputEl = gd.closest('.output');\n",
              "if (outputEl) {{\n",
              "    x.observe(outputEl, {childList: true});\n",
              "}}\n",
              "\n",
              "                        })                };                            </script>        </div>\n",
              "</body>\n",
              "</html>"
            ]
          },
          "metadata": {}
        }
      ]
    },
    {
      "cell_type": "markdown",
      "source": [
        "As it is presented above, from the perspetive of a college dean, it is possible to compare how students from different courses are on avarege performing in comparison to the other."
      ],
      "metadata": {
        "id": "HtEozfyZfwts"
      }
    },
    {
      "cell_type": "markdown",
      "source": [
        "Another similar graph that can be used on summarized data, it the pie chart. This is an excenlent option in case you want to analize proportions. For that, just make sure that the numerical data that you are analizing comprises of 100%. On our case, we want to understard the percentage distribution of studens by courses.\n",
        "\n",
        "To perform that, we are again grouping by `Course`, but now instead for calculating averages, we will be `count` each `row, as show on the blocks bellow. And then for the pie chart, we will have the aggraged table `index` as each pie category, and the the `Grade` as the numerical columns to be displayed.\n",
        "\n",
        "![pie chart](https://pbs.twimg.com/media/GDA-JNWWEAAmRc4?format=png&name=small)\n",
        "\n",
        "These block will generate the following code for us:\n",
        "\n",
        "\n"
      ],
      "metadata": {
        "id": "EYh2noZ9f9_I"
      }
    },
    {
      "cell_type": "code",
      "source": [
        "import plotly.express as px\n",
        "import pandas as pd\n",
        "students = pd.read_csv('https://raw.githubusercontent.com/lcbjrrr/data/main/grades%20-%20okk.csv')\n",
        "pivot = students.groupby('Course')\n",
        "agg = pivot.count()\n",
        "(px.pie(agg.index,agg.Grade))\n",
        "\n",
        "#<xml xmlns=\"https://developers.google.com"
      ],
      "metadata": {
        "colab": {
          "base_uri": "https://localhost:8080/",
          "height": 542
        },
        "id": "gc0yPI7ciEQN",
        "outputId": "fe60b6c4-4f8b-4d70-878d-03c74de5c36b"
      },
      "execution_count": 10,
      "outputs": [
        {
          "output_type": "display_data",
          "data": {
            "text/html": [
              "<html>\n",
              "<head><meta charset=\"utf-8\" /></head>\n",
              "<body>\n",
              "    <div>            <script src=\"https://cdnjs.cloudflare.com/ajax/libs/mathjax/2.7.5/MathJax.js?config=TeX-AMS-MML_SVG\"></script><script type=\"text/javascript\">if (window.MathJax && window.MathJax.Hub && window.MathJax.Hub.Config) {window.MathJax.Hub.Config({SVG: {font: \"STIX-Web\"}});}</script>                <script type=\"text/javascript\">window.PlotlyConfig = {MathJaxConfig: 'local'};</script>\n",
              "        <script charset=\"utf-8\" src=\"https://cdn.plot.ly/plotly-2.24.1.min.js\"></script>                <div id=\"fb3b863b-3693-47a0-9841-fc488e84cbc7\" class=\"plotly-graph-div\" style=\"height:525px; width:100%;\"></div>            <script type=\"text/javascript\">                                    window.PLOTLYENV=window.PLOTLYENV || {};                                    if (document.getElementById(\"fb3b863b-3693-47a0-9841-fc488e84cbc7\")) {                    Plotly.newPlot(                        \"fb3b863b-3693-47a0-9841-fc488e84cbc7\",                        [{\"domain\":{\"x\":[0.0,1.0],\"y\":[0.0,1.0]},\"hovertemplate\":\"label=%{label}\\u003cextra\\u003e\\u003c\\u002fextra\\u003e\",\"labels\":[5,2,5],\"legendgroup\":\"\",\"name\":\"\",\"showlegend\":true,\"type\":\"pie\"}],                        {\"template\":{\"data\":{\"histogram2dcontour\":[{\"type\":\"histogram2dcontour\",\"colorbar\":{\"outlinewidth\":0,\"ticks\":\"\"},\"colorscale\":[[0.0,\"#0d0887\"],[0.1111111111111111,\"#46039f\"],[0.2222222222222222,\"#7201a8\"],[0.3333333333333333,\"#9c179e\"],[0.4444444444444444,\"#bd3786\"],[0.5555555555555556,\"#d8576b\"],[0.6666666666666666,\"#ed7953\"],[0.7777777777777778,\"#fb9f3a\"],[0.8888888888888888,\"#fdca26\"],[1.0,\"#f0f921\"]]}],\"choropleth\":[{\"type\":\"choropleth\",\"colorbar\":{\"outlinewidth\":0,\"ticks\":\"\"}}],\"histogram2d\":[{\"type\":\"histogram2d\",\"colorbar\":{\"outlinewidth\":0,\"ticks\":\"\"},\"colorscale\":[[0.0,\"#0d0887\"],[0.1111111111111111,\"#46039f\"],[0.2222222222222222,\"#7201a8\"],[0.3333333333333333,\"#9c179e\"],[0.4444444444444444,\"#bd3786\"],[0.5555555555555556,\"#d8576b\"],[0.6666666666666666,\"#ed7953\"],[0.7777777777777778,\"#fb9f3a\"],[0.8888888888888888,\"#fdca26\"],[1.0,\"#f0f921\"]]}],\"heatmap\":[{\"type\":\"heatmap\",\"colorbar\":{\"outlinewidth\":0,\"ticks\":\"\"},\"colorscale\":[[0.0,\"#0d0887\"],[0.1111111111111111,\"#46039f\"],[0.2222222222222222,\"#7201a8\"],[0.3333333333333333,\"#9c179e\"],[0.4444444444444444,\"#bd3786\"],[0.5555555555555556,\"#d8576b\"],[0.6666666666666666,\"#ed7953\"],[0.7777777777777778,\"#fb9f3a\"],[0.8888888888888888,\"#fdca26\"],[1.0,\"#f0f921\"]]}],\"heatmapgl\":[{\"type\":\"heatmapgl\",\"colorbar\":{\"outlinewidth\":0,\"ticks\":\"\"},\"colorscale\":[[0.0,\"#0d0887\"],[0.1111111111111111,\"#46039f\"],[0.2222222222222222,\"#7201a8\"],[0.3333333333333333,\"#9c179e\"],[0.4444444444444444,\"#bd3786\"],[0.5555555555555556,\"#d8576b\"],[0.6666666666666666,\"#ed7953\"],[0.7777777777777778,\"#fb9f3a\"],[0.8888888888888888,\"#fdca26\"],[1.0,\"#f0f921\"]]}],\"contourcarpet\":[{\"type\":\"contourcarpet\",\"colorbar\":{\"outlinewidth\":0,\"ticks\":\"\"}}],\"contour\":[{\"type\":\"contour\",\"colorbar\":{\"outlinewidth\":0,\"ticks\":\"\"},\"colorscale\":[[0.0,\"#0d0887\"],[0.1111111111111111,\"#46039f\"],[0.2222222222222222,\"#7201a8\"],[0.3333333333333333,\"#9c179e\"],[0.4444444444444444,\"#bd3786\"],[0.5555555555555556,\"#d8576b\"],[0.6666666666666666,\"#ed7953\"],[0.7777777777777778,\"#fb9f3a\"],[0.8888888888888888,\"#fdca26\"],[1.0,\"#f0f921\"]]}],\"surface\":[{\"type\":\"surface\",\"colorbar\":{\"outlinewidth\":0,\"ticks\":\"\"},\"colorscale\":[[0.0,\"#0d0887\"],[0.1111111111111111,\"#46039f\"],[0.2222222222222222,\"#7201a8\"],[0.3333333333333333,\"#9c179e\"],[0.4444444444444444,\"#bd3786\"],[0.5555555555555556,\"#d8576b\"],[0.6666666666666666,\"#ed7953\"],[0.7777777777777778,\"#fb9f3a\"],[0.8888888888888888,\"#fdca26\"],[1.0,\"#f0f921\"]]}],\"mesh3d\":[{\"type\":\"mesh3d\",\"colorbar\":{\"outlinewidth\":0,\"ticks\":\"\"}}],\"scatter\":[{\"fillpattern\":{\"fillmode\":\"overlay\",\"size\":10,\"solidity\":0.2},\"type\":\"scatter\"}],\"parcoords\":[{\"type\":\"parcoords\",\"line\":{\"colorbar\":{\"outlinewidth\":0,\"ticks\":\"\"}}}],\"scatterpolargl\":[{\"type\":\"scatterpolargl\",\"marker\":{\"colorbar\":{\"outlinewidth\":0,\"ticks\":\"\"}}}],\"bar\":[{\"error_x\":{\"color\":\"#2a3f5f\"},\"error_y\":{\"color\":\"#2a3f5f\"},\"marker\":{\"line\":{\"color\":\"#E5ECF6\",\"width\":0.5},\"pattern\":{\"fillmode\":\"overlay\",\"size\":10,\"solidity\":0.2}},\"type\":\"bar\"}],\"scattergeo\":[{\"type\":\"scattergeo\",\"marker\":{\"colorbar\":{\"outlinewidth\":0,\"ticks\":\"\"}}}],\"scatterpolar\":[{\"type\":\"scatterpolar\",\"marker\":{\"colorbar\":{\"outlinewidth\":0,\"ticks\":\"\"}}}],\"histogram\":[{\"marker\":{\"pattern\":{\"fillmode\":\"overlay\",\"size\":10,\"solidity\":0.2}},\"type\":\"histogram\"}],\"scattergl\":[{\"type\":\"scattergl\",\"marker\":{\"colorbar\":{\"outlinewidth\":0,\"ticks\":\"\"}}}],\"scatter3d\":[{\"type\":\"scatter3d\",\"line\":{\"colorbar\":{\"outlinewidth\":0,\"ticks\":\"\"}},\"marker\":{\"colorbar\":{\"outlinewidth\":0,\"ticks\":\"\"}}}],\"scattermapbox\":[{\"type\":\"scattermapbox\",\"marker\":{\"colorbar\":{\"outlinewidth\":0,\"ticks\":\"\"}}}],\"scatterternary\":[{\"type\":\"scatterternary\",\"marker\":{\"colorbar\":{\"outlinewidth\":0,\"ticks\":\"\"}}}],\"scattercarpet\":[{\"type\":\"scattercarpet\",\"marker\":{\"colorbar\":{\"outlinewidth\":0,\"ticks\":\"\"}}}],\"carpet\":[{\"aaxis\":{\"endlinecolor\":\"#2a3f5f\",\"gridcolor\":\"white\",\"linecolor\":\"white\",\"minorgridcolor\":\"white\",\"startlinecolor\":\"#2a3f5f\"},\"baxis\":{\"endlinecolor\":\"#2a3f5f\",\"gridcolor\":\"white\",\"linecolor\":\"white\",\"minorgridcolor\":\"white\",\"startlinecolor\":\"#2a3f5f\"},\"type\":\"carpet\"}],\"table\":[{\"cells\":{\"fill\":{\"color\":\"#EBF0F8\"},\"line\":{\"color\":\"white\"}},\"header\":{\"fill\":{\"color\":\"#C8D4E3\"},\"line\":{\"color\":\"white\"}},\"type\":\"table\"}],\"barpolar\":[{\"marker\":{\"line\":{\"color\":\"#E5ECF6\",\"width\":0.5},\"pattern\":{\"fillmode\":\"overlay\",\"size\":10,\"solidity\":0.2}},\"type\":\"barpolar\"}],\"pie\":[{\"automargin\":true,\"type\":\"pie\"}]},\"layout\":{\"autotypenumbers\":\"strict\",\"colorway\":[\"#636efa\",\"#EF553B\",\"#00cc96\",\"#ab63fa\",\"#FFA15A\",\"#19d3f3\",\"#FF6692\",\"#B6E880\",\"#FF97FF\",\"#FECB52\"],\"font\":{\"color\":\"#2a3f5f\"},\"hovermode\":\"closest\",\"hoverlabel\":{\"align\":\"left\"},\"paper_bgcolor\":\"white\",\"plot_bgcolor\":\"#E5ECF6\",\"polar\":{\"bgcolor\":\"#E5ECF6\",\"angularaxis\":{\"gridcolor\":\"white\",\"linecolor\":\"white\",\"ticks\":\"\"},\"radialaxis\":{\"gridcolor\":\"white\",\"linecolor\":\"white\",\"ticks\":\"\"}},\"ternary\":{\"bgcolor\":\"#E5ECF6\",\"aaxis\":{\"gridcolor\":\"white\",\"linecolor\":\"white\",\"ticks\":\"\"},\"baxis\":{\"gridcolor\":\"white\",\"linecolor\":\"white\",\"ticks\":\"\"},\"caxis\":{\"gridcolor\":\"white\",\"linecolor\":\"white\",\"ticks\":\"\"}},\"coloraxis\":{\"colorbar\":{\"outlinewidth\":0,\"ticks\":\"\"}},\"colorscale\":{\"sequential\":[[0.0,\"#0d0887\"],[0.1111111111111111,\"#46039f\"],[0.2222222222222222,\"#7201a8\"],[0.3333333333333333,\"#9c179e\"],[0.4444444444444444,\"#bd3786\"],[0.5555555555555556,\"#d8576b\"],[0.6666666666666666,\"#ed7953\"],[0.7777777777777778,\"#fb9f3a\"],[0.8888888888888888,\"#fdca26\"],[1.0,\"#f0f921\"]],\"sequentialminus\":[[0.0,\"#0d0887\"],[0.1111111111111111,\"#46039f\"],[0.2222222222222222,\"#7201a8\"],[0.3333333333333333,\"#9c179e\"],[0.4444444444444444,\"#bd3786\"],[0.5555555555555556,\"#d8576b\"],[0.6666666666666666,\"#ed7953\"],[0.7777777777777778,\"#fb9f3a\"],[0.8888888888888888,\"#fdca26\"],[1.0,\"#f0f921\"]],\"diverging\":[[0,\"#8e0152\"],[0.1,\"#c51b7d\"],[0.2,\"#de77ae\"],[0.3,\"#f1b6da\"],[0.4,\"#fde0ef\"],[0.5,\"#f7f7f7\"],[0.6,\"#e6f5d0\"],[0.7,\"#b8e186\"],[0.8,\"#7fbc41\"],[0.9,\"#4d9221\"],[1,\"#276419\"]]},\"xaxis\":{\"gridcolor\":\"white\",\"linecolor\":\"white\",\"ticks\":\"\",\"title\":{\"standoff\":15},\"zerolinecolor\":\"white\",\"automargin\":true,\"zerolinewidth\":2},\"yaxis\":{\"gridcolor\":\"white\",\"linecolor\":\"white\",\"ticks\":\"\",\"title\":{\"standoff\":15},\"zerolinecolor\":\"white\",\"automargin\":true,\"zerolinewidth\":2},\"scene\":{\"xaxis\":{\"backgroundcolor\":\"#E5ECF6\",\"gridcolor\":\"white\",\"linecolor\":\"white\",\"showbackground\":true,\"ticks\":\"\",\"zerolinecolor\":\"white\",\"gridwidth\":2},\"yaxis\":{\"backgroundcolor\":\"#E5ECF6\",\"gridcolor\":\"white\",\"linecolor\":\"white\",\"showbackground\":true,\"ticks\":\"\",\"zerolinecolor\":\"white\",\"gridwidth\":2},\"zaxis\":{\"backgroundcolor\":\"#E5ECF6\",\"gridcolor\":\"white\",\"linecolor\":\"white\",\"showbackground\":true,\"ticks\":\"\",\"zerolinecolor\":\"white\",\"gridwidth\":2}},\"shapedefaults\":{\"line\":{\"color\":\"#2a3f5f\"}},\"annotationdefaults\":{\"arrowcolor\":\"#2a3f5f\",\"arrowhead\":0,\"arrowwidth\":1},\"geo\":{\"bgcolor\":\"white\",\"landcolor\":\"#E5ECF6\",\"subunitcolor\":\"white\",\"showland\":true,\"showlakes\":true,\"lakecolor\":\"white\"},\"title\":{\"x\":0.05},\"mapbox\":{\"style\":\"light\"}}},\"legend\":{\"tracegroupgap\":0},\"margin\":{\"t\":60}},                        {\"responsive\": true}                    ).then(function(){\n",
              "                            \n",
              "var gd = document.getElementById('fb3b863b-3693-47a0-9841-fc488e84cbc7');\n",
              "var x = new MutationObserver(function (mutations, observer) {{\n",
              "        var display = window.getComputedStyle(gd).display;\n",
              "        if (!display || display === 'none') {{\n",
              "            console.log([gd, 'removed!']);\n",
              "            Plotly.purge(gd);\n",
              "            observer.disconnect();\n",
              "        }}\n",
              "}});\n",
              "\n",
              "// Listen for the removal of the full notebook cells\n",
              "var notebookContainer = gd.closest('#notebook-container');\n",
              "if (notebookContainer) {{\n",
              "    x.observe(notebookContainer, {childList: true});\n",
              "}}\n",
              "\n",
              "// Listen for the clearing of the current output cell\n",
              "var outputEl = gd.closest('.output');\n",
              "if (outputEl) {{\n",
              "    x.observe(outputEl, {childList: true});\n",
              "}}\n",
              "\n",
              "                        })                };                            </script>        </div>\n",
              "</body>\n",
              "</html>"
            ]
          },
          "metadata": {}
        }
      ]
    },
    {
      "cell_type": "markdown",
      "source": [
        "**TODO: **\n",
        "\n",
        "Review the analysis here"
      ],
      "metadata": {
        "id": "iTO8m0DKiJkr"
      }
    },
    {
      "cell_type": "code",
      "source": [],
      "metadata": {
        "id": "17vLfg4shiLP"
      },
      "execution_count": null,
      "outputs": []
    }
  ],
  "metadata": {
    "kernelspec": {
      "display_name": "xpython",
      "language": "python",
      "name": "xpython"
    },
    "language_info": {
      "file_extension": ".py",
      "mimetype": "text/x-python",
      "name": "python",
      "version": "3.7.6"
    },
    "colab": {
      "provenance": []
    }
  },
  "nbformat": 4,
  "nbformat_minor": 0
}